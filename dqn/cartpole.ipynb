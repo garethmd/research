{
 "cells": [
  {
   "cell_type": "code",
   "execution_count": 23,
   "id": "19e4e2e7-cfea-4164-bb47-d7a6fd1f4e03",
   "metadata": {},
   "outputs": [],
   "source": [
    "import gymnasium as gym\n",
    "import torch\n",
    "import wandb\n",
    "import torch.nn as nn\n",
    "import numpy as np\n",
    "from collections import deque\n",
    "import random"
   ]
  },
  {
   "cell_type": "code",
   "execution_count": 5,
   "id": "e64751f1",
   "metadata": {},
   "outputs": [],
   "source": [
    "bs = 16\n",
    "gamma = 0.99\n",
    "epsilon = 1\n",
    "lr=1e-4\n",
    "ENV_NAME =  \"CartPole-v1\"\n",
    "replay_memory_max_size = 10000\n",
    "number_of_episodes = 500\n",
    "sync_every_n_steps = 500\n",
    "max_episode_length = 500\n",
    "epsilon_annealing_steps = 1000\n",
    "loss_fn = nn.SmoothL1Loss()"
   ]
  },
  {
   "cell_type": "code",
   "execution_count": 6,
   "id": "51ed29b0",
   "metadata": {},
   "outputs": [
    {
     "data": {
      "text/plain": [
       "{'learning_rate': 0.0001,\n",
       " 'architecture': 'DQN',\n",
       " 'environment': 'CartPole-v1',\n",
       " 'epsilon': 1,\n",
       " 'gamma': 0.99,\n",
       " 'bs': 16,\n",
       " 'replay_memory_max_size': 10000,\n",
       " 'number_of_episodes': 500,\n",
       " 'max_episode_length': 500,\n",
       " 'sync_every_n_steps': 500,\n",
       " 'epsilon_annealing_steps': 1000,\n",
       " 'loss': 'SmoothL1Loss()'}"
      ]
     },
     "execution_count": 6,
     "metadata": {},
     "output_type": "execute_result"
    }
   ],
   "source": [
    "config = {\n",
    "    \"learning_rate\": lr,\n",
    "    \"architecture\": \"DQN\",\n",
    "    \"environment\": ENV_NAME,\n",
    "    \"epsilon\": epsilon,\n",
    "    \"gamma\":gamma,\n",
    "    \"bs\":bs,\n",
    "    \"replay_memory_max_size\":replay_memory_max_size,\n",
    "    \"number_of_episodes\":number_of_episodes,\n",
    "    \"max_episode_length\":max_episode_length,\n",
    "    \"sync_every_n_steps\": sync_every_n_steps,\n",
    "    \"epsilon_annealing_steps\":epsilon_annealing_steps,\n",
    "    \"loss\": str(loss_fn),\n",
    "    }\n",
    "config"
   ]
  },
  {
   "cell_type": "code",
   "execution_count": 7,
   "id": "65556ea4",
   "metadata": {},
   "outputs": [
    {
     "name": "stderr",
     "output_type": "stream",
     "text": [
      "Failed to detect the name of this notebook, you can set it manually with the WANDB_NOTEBOOK_NAME environment variable to enable code saving.\n",
      "\u001b[34m\u001b[1mwandb\u001b[0m: Currently logged in as: \u001b[33mgarethmd\u001b[0m. Use \u001b[1m`wandb login --relogin`\u001b[0m to force relogin\n"
     ]
    },
    {
     "data": {
      "text/html": [
       "Tracking run with wandb version 0.16.2"
      ],
      "text/plain": [
       "<IPython.core.display.HTML object>"
      ]
     },
     "metadata": {},
     "output_type": "display_data"
    },
    {
     "data": {
      "text/html": [
       "Run data is saved locally in <code>/Users/garethdavies/Development/workspaces/rl/dqn/wandb/run-20240119_212336-2bnqv62z</code>"
      ],
      "text/plain": [
       "<IPython.core.display.HTML object>"
      ]
     },
     "metadata": {},
     "output_type": "display_data"
    },
    {
     "data": {
      "text/html": [
       "Syncing run <strong><a href='https://wandb.ai/garethmd/cartpole/runs/2bnqv62z' target=\"_blank\">dauntless-sea-9</a></strong> to <a href='https://wandb.ai/garethmd/cartpole' target=\"_blank\">Weights & Biases</a> (<a href='https://wandb.me/run' target=\"_blank\">docs</a>)<br/>"
      ],
      "text/plain": [
       "<IPython.core.display.HTML object>"
      ]
     },
     "metadata": {},
     "output_type": "display_data"
    },
    {
     "data": {
      "text/html": [
       " View project at <a href='https://wandb.ai/garethmd/cartpole' target=\"_blank\">https://wandb.ai/garethmd/cartpole</a>"
      ],
      "text/plain": [
       "<IPython.core.display.HTML object>"
      ]
     },
     "metadata": {},
     "output_type": "display_data"
    },
    {
     "data": {
      "text/html": [
       " View run at <a href='https://wandb.ai/garethmd/cartpole/runs/2bnqv62z' target=\"_blank\">https://wandb.ai/garethmd/cartpole/runs/2bnqv62z</a>"
      ],
      "text/plain": [
       "<IPython.core.display.HTML object>"
      ]
     },
     "metadata": {},
     "output_type": "display_data"
    },
    {
     "data": {
      "text/html": [
       "<button onClick=\"this.nextSibling.style.display='block';this.style.display='none';\">Display W&B run</button><iframe src='https://wandb.ai/garethmd/cartpole/runs/2bnqv62z?jupyter=true' style='border:none;width:100%;height:420px;display:none;'></iframe>"
      ],
      "text/plain": [
       "<wandb.sdk.wandb_run.Run at 0x126382b60>"
      ]
     },
     "execution_count": 7,
     "metadata": {},
     "output_type": "execute_result"
    }
   ],
   "source": [
    "wandb.init(\n",
    "    # set the wandb project where this run will be logged\n",
    "    project=\"cartpole\",\n",
    "    \n",
    "    # track hyperparameters and run metadata\n",
    "    config=config\n",
    ")"
   ]
  },
  {
   "cell_type": "code",
   "execution_count": 8,
   "id": "fb7660d0",
   "metadata": {},
   "outputs": [],
   "source": [
    "class TorchEnv:\n",
    "    def __init__(self, env):\n",
    "        self.env = env\n",
    "        self.n_observations = self.env.observation_space.shape[0]\n",
    "        self.n_actions = self.env.action_space.n\n",
    "        \n",
    "    def step(self, a):\n",
    "        s, r, terminated, truncated, info = self.env.step(a)\n",
    "        return torch.tensor(s), torch.tensor(r), terminated, truncated, info\n",
    "    \n",
    "    def reset(self, *args, **kwargs):\n",
    "        s, info = self.env.reset(*args, **kwargs)\n",
    "        return torch.tensor(s), info\n",
    "    \n",
    "    def close(self):\n",
    "        return self.env.close()\n",
    "    \n",
    "env = TorchEnv(gym.make(ENV_NAME))"
   ]
  },
  {
   "cell_type": "code",
   "execution_count": 11,
   "id": "bcf3cb40",
   "metadata": {},
   "outputs": [],
   "source": [
    "class DQN(nn.Module):\n",
    "    def __init__(self, in_dim: int, hidden_dim: int, n_actions: int) -> None:\n",
    "        super(DQN, self).__init__()\n",
    "        self.net = nn.Sequential(\n",
    "            nn.Linear(in_dim, hidden_dim),\n",
    "            nn.ReLU(),\n",
    "            nn.Linear(hidden_dim, hidden_dim),\n",
    "            nn.ReLU(),\n",
    "            nn.Linear(hidden_dim, n_actions)\n",
    "        )\n",
    "        self.n_actions = n_actions\n",
    "    \n",
    "    def forward(self, s: torch.tensor) -> torch.tensor:\n",
    "        return self.net(s)\n",
    "    \n",
    "    def select_next_action(self, s: torch.tensor, epsilon: float) -> int:\n",
    "        with torch.no_grad(): # no need to track gradients selecting next action\n",
    "            use_greedy = np.random.binomial(1, 1-epsilon)\n",
    "            if use_greedy:\n",
    "                a = self(s).argmax().item()\n",
    "            else:\n",
    "                a = np.random.randint(self.n_actions)\n",
    "            return a"
   ]
  },
  {
   "cell_type": "code",
   "execution_count": 13,
   "id": "6e0479c4",
   "metadata": {},
   "outputs": [],
   "source": [
    "class ExperienceReplay:\n",
    "    def __init__(self, maxlen: int) -> None:\n",
    "        self.deque = deque(maxlen=maxlen)\n",
    "        \n",
    "    def append(self, x: tuple) -> None:\n",
    "        self.deque.append(x)\n",
    "        \n",
    "    def sample(self, bs: int) -> list:\n",
    "        return random.sample(self.deque, min(len(self), bs))\n",
    "        \n",
    "    def __len__(self) -> int:\n",
    "        return len(self.deque)"
   ]
  },
  {
   "cell_type": "code",
   "execution_count": 14,
   "id": "e8f8ef14",
   "metadata": {},
   "outputs": [],
   "source": [
    "def fill(replay_memory: ExperienceReplay, env: TorchEnv) -> None:\n",
    "    while len(replay_memory)<replay_memory_max_size:\n",
    "        s, info = env.reset()\n",
    "        terminated=False\n",
    "        while terminated == False:\n",
    "            a = np.random.randint(env.n_actions)\n",
    "            s_prime, r, terminated, *_ = env.step(a)\n",
    "            replay_memory.append((s, a, r, s_prime, terminated))\n",
    "            s = s_prime"
   ]
  },
  {
   "cell_type": "code",
   "execution_count": 19,
   "id": "691940ab",
   "metadata": {},
   "outputs": [],
   "source": [
    "def pole_collate(batch: list) -> tuple:\n",
    "    s_j, a_j, r_j, s_prime_j, terminated_j = list(zip(*batch))\n",
    "    return torch.stack(s_j), torch.tensor(a_j), torch.tensor(r_j), torch.stack(s_prime_j), (~torch.tensor(terminated_j)).float()\n",
    "\n",
    "def train_batch(self, batch: list, target_net:DQN=None, collate_fn:callable=pole_collate) -> tuple:\n",
    "    if target_net is None:\n",
    "        target_net = self\n",
    "\n",
    "    s, a, r, s_prime, not_terminated = collate_fn(batch)\n",
    "    y_hat = self(s).gather(1, a.unsqueeze(1)).squeeze() # gather the values at the indices given by the actions a \n",
    "    \n",
    "    with torch.no_grad():\n",
    "        next_values = target_net(s_prime).max(dim=1).values.clone().detach()\n",
    "        y_j = r.detach().clone() + gamma * next_values * not_terminated # if terminated then not_terminated is set to zero (y_j = r)\n",
    "    return y_hat, y_j"
   ]
  },
  {
   "cell_type": "code",
   "execution_count": 20,
   "id": "fb819e31",
   "metadata": {},
   "outputs": [],
   "source": [
    "replay_memory = ExperienceReplay(replay_memory_max_size)\n",
    "fill(replay_memory, env) "
   ]
  },
  {
   "cell_type": "code",
   "execution_count": 21,
   "id": "db4bde47",
   "metadata": {},
   "outputs": [],
   "source": [
    "dqn = DQN(in_dim=env.n_observations, hidden_dim=64, n_actions=env.n_actions)\n",
    "target_net = DQN(in_dim=env.n_observations, hidden_dim=64, n_actions=env.n_actions)\n",
    "target_net.load_state_dict(dqn.state_dict())\n",
    "optimizer = torch.optim.Adam(dqn.parameters(),  lr=lr)"
   ]
  },
  {
   "cell_type": "markdown",
   "id": "e92debcd",
   "metadata": {},
   "source": [
    "### Training the model"
   ]
  },
  {
   "cell_type": "code",
   "execution_count": 24,
   "id": "290043ab",
   "metadata": {},
   "outputs": [
    {
     "name": "stdout",
     "output_type": "stream",
     "text": [
      "{'eposide': 0, 'episode_loss': 0.48330011336426987, 'reward': 38.0, 'step': 38}\n",
      "{'eposide': 100, 'episode_loss': 0.09720437689684332, 'reward': 10.0, 'step': 1331}\n",
      "{'eposide': 200, 'episode_loss': 0.2295423513278365, 'reward': 11.0, 'step': 2543}\n",
      "{'eposide': 300, 'episode_loss': 0.3977079735107956, 'reward': 63.0, 'step': 6247}\n",
      "{'eposide': 400, 'episode_loss': 0.1679787275143836, 'reward': 74.0, 'step': 17047}\n"
     ]
    },
    {
     "data": {
      "text/html": [
       "<style>\n",
       "    table.wandb td:nth-child(1) { padding: 0 10px; text-align: left ; width: auto;} td:nth-child(2) {text-align: left ; width: 100%}\n",
       "    .wandb-row { display: flex; flex-direction: row; flex-wrap: wrap; justify-content: flex-start; width: 100% }\n",
       "    .wandb-col { display: flex; flex-direction: column; flex-basis: 100%; flex: 1; padding: 10px; }\n",
       "    </style>\n",
       "<div class=\"wandb-row\"><div class=\"wandb-col\"><h3>Run history:</h3><br/><table class=\"wandb\"><tr><td>episode_loss</td><td>▆▁▁█▄</td></tr><tr><td>eposide</td><td>▁▃▅▆█</td></tr><tr><td>reward</td><td>▄▁▁▇█</td></tr><tr><td>step</td><td>▁▂▂▄█</td></tr></table><br/></div><div class=\"wandb-col\"><h3>Run summary:</h3><br/><table class=\"wandb\"><tr><td>episode_loss</td><td>12.43043</td></tr><tr><td>eposide</td><td>400</td></tr><tr><td>reward</td><td>74.0</td></tr><tr><td>step</td><td>17047</td></tr></table><br/></div></div>"
      ],
      "text/plain": [
       "<IPython.core.display.HTML object>"
      ]
     },
     "metadata": {},
     "output_type": "display_data"
    },
    {
     "data": {
      "text/html": [
       " View run <strong style=\"color:#cdcd00\">dauntless-sea-9</strong> at: <a href='https://wandb.ai/garethmd/cartpole/runs/2bnqv62z' target=\"_blank\">https://wandb.ai/garethmd/cartpole/runs/2bnqv62z</a><br/>Synced 5 W&B file(s), 0 media file(s), 1 artifact file(s) and 0 other file(s)"
      ],
      "text/plain": [
       "<IPython.core.display.HTML object>"
      ]
     },
     "metadata": {},
     "output_type": "display_data"
    },
    {
     "data": {
      "text/html": [
       "Find logs at: <code>./wandb/run-20240119_212336-2bnqv62z/logs</code>"
      ],
      "text/plain": [
       "<IPython.core.display.HTML object>"
      ]
     },
     "metadata": {},
     "output_type": "display_data"
    }
   ],
   "source": [
    "dqn.train()\n",
    "step = 0\n",
    "\n",
    "# Magic\n",
    "wandb.watch(dqn, log_freq=100)\n",
    "\n",
    "for i in range(number_of_episodes):\n",
    "    terminated = False\n",
    "    s, info = env.reset(seed=42)\n",
    "    episode_loss, episode_reward, episode_length, k  = 0, 0, 0, 0\n",
    "    while terminated == False and k < max_episode_length:\n",
    "        a = dqn.select_next_action(s, epsilon)\n",
    "        s_prime, r, terminated, *_ = env.step(a)\n",
    "        \n",
    "        replay_memory.append((s, a, r, s_prime, terminated))\n",
    "        batch = replay_memory.sample(bs)\n",
    "        \n",
    "        optimizer.zero_grad()\n",
    "        \n",
    "        y_hat, y = train_batch(dqn, batch, target_net=target_net)\n",
    "        \n",
    "        loss = loss_fn(y_hat, y)\n",
    "        loss.backward()\n",
    "        torch.nn.utils.clip_grad_value_(dqn.parameters(), 100)\n",
    "        optimizer.step()\n",
    "        if epsilon > 0.05 :\n",
    "            epsilon -= (1 / epsilon_annealing_steps)\n",
    "        \n",
    "        if step % sync_every_n_steps == 0:\n",
    "            target_net.load_state_dict(dqn.state_dict())\n",
    "            \n",
    "        s = s_prime\n",
    "        \n",
    "        episode_loss += loss.item()\n",
    "        episode_reward += r.item()\n",
    "        episode_length += 1\n",
    "        k += 1\n",
    "        step += 1\n",
    "            \n",
    "    if i % 100 == 0:\n",
    "        wandb.log({\"eposide\":i,\n",
    "                    \"episode_loss\": episode_loss, \n",
    "                   \"reward\": episode_reward,\n",
    "                   \"step\":step\n",
    "                  })\n",
    "        print({\"eposide\":i,\n",
    "                    \"episode_loss\": episode_loss / k, \n",
    "                   \"reward\": episode_reward,\n",
    "                   \"step\":step\n",
    "                  })\n",
    "model_path = 'cartpole.pth'\n",
    "torch.save(dqn.state_dict(), model_path)\n",
    "wandb.log_model(name=f\"cartpole-{wandb.run.id}\", path=model_path)\n",
    "env.close()\n",
    "\n",
    "wandb.finish()"
   ]
  },
  {
   "cell_type": "markdown",
   "id": "207df7bb",
   "metadata": {},
   "source": [
    "### Validation of the model"
   ]
  },
  {
   "cell_type": "code",
   "execution_count": 25,
   "id": "b7dad61d",
   "metadata": {},
   "outputs": [
    {
     "name": "stdout",
     "output_type": "stream",
     "text": [
      "episode_length 24, reward 24.0\n",
      "episode_length 107, reward 107.0\n",
      "episode_length 21, reward 21.0\n",
      "episode_length 105, reward 105.0\n",
      "episode_length 16, reward 16.0\n",
      "episode_length 100, reward 100.0\n",
      "episode_length 107, reward 107.0\n",
      "episode_length 98, reward 98.0\n",
      "episode_length 109, reward 109.0\n",
      "episode_length 99, reward 99.0\n"
     ]
    }
   ],
   "source": [
    "for seed in range(10):\n",
    "    MAX_EPISODE_LENGTH = 500\n",
    "    episode_loss, episode_reward, episode_length, i = 0, 0, 0, 0\n",
    "    s, info = env.reset(seed=seed)\n",
    "    terminated = False\n",
    "    while terminated == False and i < MAX_EPISODE_LENGTH:\n",
    "        a = dqn.select_next_action(s, 0)\n",
    "        s_prime, r, terminated, *_ = env.step(a)\n",
    "        s = s_prime\n",
    "        episode_reward += r.item()\n",
    "        episode_length += 1\n",
    "        i += 1\n",
    "\n",
    "    print(f'episode_length {episode_length}, reward {episode_reward}')\n",
    "env.close()"
   ]
  },
  {
   "cell_type": "code",
   "execution_count": 26,
   "id": "885150a9",
   "metadata": {},
   "outputs": [],
   "source": [
    "import torch.utils.data as data"
   ]
  },
  {
   "cell_type": "code",
   "execution_count": 30,
   "id": "13efd4ab",
   "metadata": {},
   "outputs": [],
   "source": [
    "class ReplayMemoryDataset(data.IterableDataset):\n",
    "    def __init__(self, replay_memory: ExperienceReplay, collate_fn: callable = pole_collate):\n",
    "        super(ReplayMemoryDataset).__init__()\n",
    "        self.replay_memory = replay_memory\n",
    "        self.collate_fn = collate_fn\n",
    "        \n",
    "    def __iter__(self)-> iter:\n",
    "        yield self.collate_fn(self.replay_memory.sample(bs))"
   ]
  },
  {
   "cell_type": "code",
   "execution_count": 31,
   "id": "a9e43c8f",
   "metadata": {},
   "outputs": [],
   "source": [
    "dataset = ReplayMemoryDataset(replay_memory)"
   ]
  },
  {
   "cell_type": "code",
   "execution_count": 32,
   "id": "ae52e328",
   "metadata": {},
   "outputs": [
    {
     "name": "stdout",
     "output_type": "stream",
     "text": [
      "(tensor([[ 1.2041,  1.6328,  0.0747, -0.0289],\n",
      "        [ 0.9637,  1.6179,  0.1783,  0.3031],\n",
      "        [-0.0178, -0.2128,  0.1242,  0.5707],\n",
      "        [ 1.0619,  1.6325,  0.0864, -0.0222],\n",
      "        [-0.0130, -0.0131,  0.1059,  0.1751],\n",
      "        [ 1.7256,  1.8057,  0.1470,  0.1708],\n",
      "        [ 0.0033, -0.2045,  0.0754,  0.3856],\n",
      "        [ 0.1661,  1.0959,  0.1886, -0.2241],\n",
      "        [ 1.2761,  2.1833,  0.1693, -0.1414],\n",
      "        [ 0.4107,  1.2739,  0.1410, -0.1383],\n",
      "        [ 0.3332,  1.0948,  0.0983, -0.1981],\n",
      "        [-0.0510,  0.1639,  0.2072,  0.2859],\n",
      "        [ 1.6384,  1.8019,  0.1644,  0.2542],\n",
      "        [ 0.0812,  0.9240,  0.1505, -0.4461],\n",
      "        [-0.0252, -0.0163,  0.1310,  0.2475],\n",
      "        [ 1.4565,  2.1706,  0.1929,  0.1448]]), tensor([1, 1, 1, 0, 0, 0, 0, 0, 0, 0, 1, 1, 1, 0, 0, 1]), tensor([1., 1., 1., 1., 1., 1., 1., 1., 1., 1., 1., 1., 1., 1., 1., 1.]), tensor([[ 1.2367e+00,  1.8267e+00,  7.4113e-02, -2.9711e-01],\n",
      "        [ 9.9602e-01,  1.8101e+00,  1.8436e-01,  7.1548e-02],\n",
      "        [-2.2009e-02, -1.9581e-02,  1.3561e-01,  3.1962e-01],\n",
      "        [ 1.0946e+00,  1.4362e+00,  8.5974e-02,  2.9644e-01],\n",
      "        [-1.3239e-02, -2.0958e-01,  1.0935e-01,  4.9924e-01],\n",
      "        [ 1.7617e+00,  1.6088e+00,  1.5044e-01,  5.0602e-01],\n",
      "        [-8.2953e-04, -4.0061e-01,  8.3116e-02,  7.0109e-01],\n",
      "        [ 1.8800e-01,  8.9861e-01,  1.8409e-01,  1.2164e-01],\n",
      "        [ 1.3198e+00,  1.9862e+00,  1.6648e-01,  1.9955e-01],\n",
      "        [ 4.3622e-01,  1.0771e+00,  1.3827e-01,  1.9538e-01],\n",
      "        [ 3.5507e-01,  1.2884e+00,  9.4292e-02, -4.5827e-01],\n",
      "        [-4.7708e-02,  3.5560e-01,  2.1291e-01,  6.5033e-02],\n",
      "        [ 1.6744e+00,  1.9944e+00,  1.6947e-01,  1.7539e-02],\n",
      "        [ 9.9712e-02,  7.2712e-01,  1.4157e-01, -1.0998e-01],\n",
      "        [-2.5557e-02, -2.1307e-01,  1.3594e-01,  5.7848e-01],\n",
      "        [ 1.4999e+00,  2.3625e+00,  1.9583e-01, -8.1374e-02]]), tensor([1., 1., 1., 1., 1., 1., 1., 1., 1., 1., 1., 0., 1., 1., 1., 1.]))\n"
     ]
    }
   ],
   "source": [
    "batch = next(iter(dataset))\n",
    "print(batch)"
   ]
  },
  {
   "cell_type": "code",
   "execution_count": 33,
   "id": "7281f3ec",
   "metadata": {},
   "outputs": [],
   "source": [
    "import lightning as L"
   ]
  },
  {
   "cell_type": "code",
   "execution_count": 57,
   "id": "71ac2acc",
   "metadata": {},
   "outputs": [],
   "source": [
    "class LitAutoEncoder(L.LightningModule):\n",
    "    def __init__(self, dqn, target_net, env, replay_memory, config):\n",
    "        super().__init__()\n",
    "        self.dqn = dqn\n",
    "        if target_net is None:\n",
    "            target_net = self\n",
    "        self.target_net = target_net\n",
    "        self.target_net.load_state_dict(self.dqn.state_dict())\n",
    "        self.env = env\n",
    "        self.replay_memory = replay_memory\n",
    "        self.step = 0\n",
    "        self.save_hyperparameters(config)\n",
    "        \n",
    "\n",
    "    def dqn_loss(self, batch):\n",
    "        s, a, r, s_prime, not_terminated = batch\n",
    "        y_hat = self.dqn(s).gather(1, a.unsqueeze(1)).squeeze() # gather the values at the indices given by the actions a \n",
    "        \n",
    "        with torch.no_grad():\n",
    "            next_values = self.target_net(s_prime).max(dim=1).values.clone().detach()\n",
    "            y_j = r.detach().clone() + gamma * next_values * not_terminated # if terminated then not_terminated is set to zero (y_j = r)\n",
    "        \n",
    "        loss = nn.functional.smooth_l1_loss(y_hat, y_j)\n",
    "        return loss\n",
    "\n",
    "    def play_episode(self):\n",
    "        terminated = False\n",
    "        s, info = self.env.reset()\n",
    "        episode_loss, episode_reward, episode_length, k  = 0, 0, 0, 0\n",
    "        while terminated == False and k < self.hparams.max_episode_length:\n",
    "            a = self.dqn.select_next_action(s, self.hparams.epsilon)\n",
    "            s_prime, r, terminated, *_ = self.env.step(a)\n",
    "\n",
    "            self.replay_memory.append((s, a, r, s_prime, terminated))\n",
    "            if self.hparams.epsilon > 0.05 :\n",
    "                self.hparams.epsilon -= (1 / self.hparams.epsilon_annealing_steps)\n",
    "\n",
    "            if self.step % self.hparams.sync_every_n_steps == 0:\n",
    "                self.target_net.load_state_dict(dqn.state_dict())\n",
    "            self.step += 1\n",
    "            s = s_prime\n",
    "\n",
    "    def training_step(self, batch, batch_idx):\n",
    "        # training_step defines the train loop.\n",
    "        # it is independent of forward\n",
    "        self.play_episode()\n",
    "        loss = self.dqn_loss(batch)\n",
    "        # Logging to TensorBoard (if installed) by default\n",
    "        self.log(\"train_loss\", loss)\n",
    "        return loss\n",
    "\n",
    "    def configure_optimizers(self):\n",
    "        optimizer = torch.optim.Adam(self.dqn.parameters(), lr=self.hparams.learning_rate)\n",
    "        return optimizer\n"
   ]
  },
  {
   "cell_type": "code",
   "execution_count": 58,
   "id": "0bbc7980",
   "metadata": {},
   "outputs": [
    {
     "data": {
      "text/plain": [
       "0.0001"
      ]
     },
     "execution_count": 58,
     "metadata": {},
     "output_type": "execute_result"
    }
   ],
   "source": [
    "model = LitAutoEncoder(dqn, target_net, env, replay_memory, config)\n",
    "model.hparams.learning_rate"
   ]
  },
  {
   "cell_type": "code",
   "execution_count": 59,
   "id": "9bda43f5",
   "metadata": {},
   "outputs": [
    {
     "name": "stderr",
     "output_type": "stream",
     "text": [
      "GPU available: False, used: False\n",
      "TPU available: False, using: 0 TPU cores\n",
      "IPU available: False, using: 0 IPUs\n",
      "HPU available: False, using: 0 HPUs\n",
      "\n",
      "  | Name       | Type | Params\n",
      "------------------------------------\n",
      "0 | dqn        | DQN  | 4.6 K \n",
      "1 | target_net | DQN  | 4.6 K \n",
      "------------------------------------\n",
      "9.2 K     Trainable params\n",
      "0         Non-trainable params\n",
      "9.2 K     Total params\n",
      "0.037     Total estimated model params size (MB)\n"
     ]
    },
    {
     "name": "stdout",
     "output_type": "stream",
     "text": [
      "Epoch 0: |          | 0/? [28:09<?, ?it/s], v_num=5]        \n",
      "Epoch 0: |          | 0/? [12:23<?, ?it/s]\n",
      "Epoch 0: |          | 0/? [03:38<?, ?it/s]\n",
      "Epoch 0: |          | 0/? [02:50<?, ?it/s]\n"
     ]
    },
    {
     "ename": "AttributeError",
     "evalue": "'NoneType' object has no attribute '_log'",
     "output_type": "error",
     "traceback": [
      "\u001b[0;31m---------------------------------------------------------------------------\u001b[0m",
      "\u001b[0;31mAttributeError\u001b[0m                            Traceback (most recent call last)",
      "\u001b[1;32m/Users/garethdavies/Development/workspaces/rl/dqn/cartpole.ipynb Cell 23\u001b[0m line \u001b[0;36m2\n\u001b[1;32m      <a href='vscode-notebook-cell:/Users/garethdavies/Development/workspaces/rl/dqn/cartpole.ipynb#X32sZmlsZQ%3D%3D?line=0'>1</a>\u001b[0m trainer \u001b[39m=\u001b[39m L\u001b[39m.\u001b[39mTrainer(max_epochs\u001b[39m=\u001b[39m\u001b[39m500\u001b[39m)\n\u001b[0;32m----> <a href='vscode-notebook-cell:/Users/garethdavies/Development/workspaces/rl/dqn/cartpole.ipynb#X32sZmlsZQ%3D%3D?line=1'>2</a>\u001b[0m trainer\u001b[39m.\u001b[39;49mfit(model, ReplayMemoryDataset(replay_memory))\n",
      "File \u001b[0;32m~/Development/workspaces/rl/venv/lib/python3.10/site-packages/lightning/pytorch/trainer/trainer.py:544\u001b[0m, in \u001b[0;36mTrainer.fit\u001b[0;34m(self, model, train_dataloaders, val_dataloaders, datamodule, ckpt_path)\u001b[0m\n\u001b[1;32m    542\u001b[0m \u001b[39mself\u001b[39m\u001b[39m.\u001b[39mstate\u001b[39m.\u001b[39mstatus \u001b[39m=\u001b[39m TrainerStatus\u001b[39m.\u001b[39mRUNNING\n\u001b[1;32m    543\u001b[0m \u001b[39mself\u001b[39m\u001b[39m.\u001b[39mtraining \u001b[39m=\u001b[39m \u001b[39mTrue\u001b[39;00m\n\u001b[0;32m--> 544\u001b[0m call\u001b[39m.\u001b[39;49m_call_and_handle_interrupt(\n\u001b[1;32m    545\u001b[0m     \u001b[39mself\u001b[39;49m, \u001b[39mself\u001b[39;49m\u001b[39m.\u001b[39;49m_fit_impl, model, train_dataloaders, val_dataloaders, datamodule, ckpt_path\n\u001b[1;32m    546\u001b[0m )\n",
      "File \u001b[0;32m~/Development/workspaces/rl/venv/lib/python3.10/site-packages/lightning/pytorch/trainer/call.py:44\u001b[0m, in \u001b[0;36m_call_and_handle_interrupt\u001b[0;34m(trainer, trainer_fn, *args, **kwargs)\u001b[0m\n\u001b[1;32m     42\u001b[0m     \u001b[39mif\u001b[39;00m trainer\u001b[39m.\u001b[39mstrategy\u001b[39m.\u001b[39mlauncher \u001b[39mis\u001b[39;00m \u001b[39mnot\u001b[39;00m \u001b[39mNone\u001b[39;00m:\n\u001b[1;32m     43\u001b[0m         \u001b[39mreturn\u001b[39;00m trainer\u001b[39m.\u001b[39mstrategy\u001b[39m.\u001b[39mlauncher\u001b[39m.\u001b[39mlaunch(trainer_fn, \u001b[39m*\u001b[39margs, trainer\u001b[39m=\u001b[39mtrainer, \u001b[39m*\u001b[39m\u001b[39m*\u001b[39mkwargs)\n\u001b[0;32m---> 44\u001b[0m     \u001b[39mreturn\u001b[39;00m trainer_fn(\u001b[39m*\u001b[39;49margs, \u001b[39m*\u001b[39;49m\u001b[39m*\u001b[39;49mkwargs)\n\u001b[1;32m     46\u001b[0m \u001b[39mexcept\u001b[39;00m _TunerExitException:\n\u001b[1;32m     47\u001b[0m     _call_teardown_hook(trainer)\n",
      "File \u001b[0;32m~/Development/workspaces/rl/venv/lib/python3.10/site-packages/lightning/pytorch/trainer/trainer.py:580\u001b[0m, in \u001b[0;36mTrainer._fit_impl\u001b[0;34m(self, model, train_dataloaders, val_dataloaders, datamodule, ckpt_path)\u001b[0m\n\u001b[1;32m    573\u001b[0m \u001b[39massert\u001b[39;00m \u001b[39mself\u001b[39m\u001b[39m.\u001b[39mstate\u001b[39m.\u001b[39mfn \u001b[39mis\u001b[39;00m \u001b[39mnot\u001b[39;00m \u001b[39mNone\u001b[39;00m\n\u001b[1;32m    574\u001b[0m ckpt_path \u001b[39m=\u001b[39m \u001b[39mself\u001b[39m\u001b[39m.\u001b[39m_checkpoint_connector\u001b[39m.\u001b[39m_select_ckpt_path(\n\u001b[1;32m    575\u001b[0m     \u001b[39mself\u001b[39m\u001b[39m.\u001b[39mstate\u001b[39m.\u001b[39mfn,\n\u001b[1;32m    576\u001b[0m     ckpt_path,\n\u001b[1;32m    577\u001b[0m     model_provided\u001b[39m=\u001b[39m\u001b[39mTrue\u001b[39;00m,\n\u001b[1;32m    578\u001b[0m     model_connected\u001b[39m=\u001b[39m\u001b[39mself\u001b[39m\u001b[39m.\u001b[39mlightning_module \u001b[39mis\u001b[39;00m \u001b[39mnot\u001b[39;00m \u001b[39mNone\u001b[39;00m,\n\u001b[1;32m    579\u001b[0m )\n\u001b[0;32m--> 580\u001b[0m \u001b[39mself\u001b[39;49m\u001b[39m.\u001b[39;49m_run(model, ckpt_path\u001b[39m=\u001b[39;49mckpt_path)\n\u001b[1;32m    582\u001b[0m \u001b[39massert\u001b[39;00m \u001b[39mself\u001b[39m\u001b[39m.\u001b[39mstate\u001b[39m.\u001b[39mstopped\n\u001b[1;32m    583\u001b[0m \u001b[39mself\u001b[39m\u001b[39m.\u001b[39mtraining \u001b[39m=\u001b[39m \u001b[39mFalse\u001b[39;00m\n",
      "File \u001b[0;32m~/Development/workspaces/rl/venv/lib/python3.10/site-packages/lightning/pytorch/trainer/trainer.py:989\u001b[0m, in \u001b[0;36mTrainer._run\u001b[0;34m(self, model, ckpt_path)\u001b[0m\n\u001b[1;32m    984\u001b[0m \u001b[39mself\u001b[39m\u001b[39m.\u001b[39m_signal_connector\u001b[39m.\u001b[39mregister_signal_handlers()\n\u001b[1;32m    986\u001b[0m \u001b[39m# ----------------------------\u001b[39;00m\n\u001b[1;32m    987\u001b[0m \u001b[39m# RUN THE TRAINER\u001b[39;00m\n\u001b[1;32m    988\u001b[0m \u001b[39m# ----------------------------\u001b[39;00m\n\u001b[0;32m--> 989\u001b[0m results \u001b[39m=\u001b[39m \u001b[39mself\u001b[39;49m\u001b[39m.\u001b[39;49m_run_stage()\n\u001b[1;32m    991\u001b[0m \u001b[39m# ----------------------------\u001b[39;00m\n\u001b[1;32m    992\u001b[0m \u001b[39m# POST-Training CLEAN UP\u001b[39;00m\n\u001b[1;32m    993\u001b[0m \u001b[39m# ----------------------------\u001b[39;00m\n\u001b[1;32m    994\u001b[0m log\u001b[39m.\u001b[39mdebug(\u001b[39mf\u001b[39m\u001b[39m\"\u001b[39m\u001b[39m{\u001b[39;00m\u001b[39mself\u001b[39m\u001b[39m.\u001b[39m\u001b[39m__class__\u001b[39m\u001b[39m.\u001b[39m\u001b[39m__name__\u001b[39m\u001b[39m}\u001b[39;00m\u001b[39m: trainer tearing down\u001b[39m\u001b[39m\"\u001b[39m)\n",
      "File \u001b[0;32m~/Development/workspaces/rl/venv/lib/python3.10/site-packages/lightning/pytorch/trainer/trainer.py:1035\u001b[0m, in \u001b[0;36mTrainer._run_stage\u001b[0;34m(self)\u001b[0m\n\u001b[1;32m   1033\u001b[0m         \u001b[39mself\u001b[39m\u001b[39m.\u001b[39m_run_sanity_check()\n\u001b[1;32m   1034\u001b[0m     \u001b[39mwith\u001b[39;00m torch\u001b[39m.\u001b[39mautograd\u001b[39m.\u001b[39mset_detect_anomaly(\u001b[39mself\u001b[39m\u001b[39m.\u001b[39m_detect_anomaly):\n\u001b[0;32m-> 1035\u001b[0m         \u001b[39mself\u001b[39;49m\u001b[39m.\u001b[39;49mfit_loop\u001b[39m.\u001b[39;49mrun()\n\u001b[1;32m   1036\u001b[0m     \u001b[39mreturn\u001b[39;00m \u001b[39mNone\u001b[39;00m\n\u001b[1;32m   1037\u001b[0m \u001b[39mraise\u001b[39;00m \u001b[39mRuntimeError\u001b[39;00m(\u001b[39mf\u001b[39m\u001b[39m\"\u001b[39m\u001b[39mUnexpected state \u001b[39m\u001b[39m{\u001b[39;00m\u001b[39mself\u001b[39m\u001b[39m.\u001b[39mstate\u001b[39m}\u001b[39;00m\u001b[39m\"\u001b[39m)\n",
      "File \u001b[0;32m~/Development/workspaces/rl/venv/lib/python3.10/site-packages/lightning/pytorch/loops/fit_loop.py:202\u001b[0m, in \u001b[0;36m_FitLoop.run\u001b[0;34m(self)\u001b[0m\n\u001b[1;32m    200\u001b[0m \u001b[39mtry\u001b[39;00m:\n\u001b[1;32m    201\u001b[0m     \u001b[39mself\u001b[39m\u001b[39m.\u001b[39mon_advance_start()\n\u001b[0;32m--> 202\u001b[0m     \u001b[39mself\u001b[39;49m\u001b[39m.\u001b[39;49madvance()\n\u001b[1;32m    203\u001b[0m     \u001b[39mself\u001b[39m\u001b[39m.\u001b[39mon_advance_end()\n\u001b[1;32m    204\u001b[0m     \u001b[39mself\u001b[39m\u001b[39m.\u001b[39m_restarting \u001b[39m=\u001b[39m \u001b[39mFalse\u001b[39;00m\n",
      "File \u001b[0;32m~/Development/workspaces/rl/venv/lib/python3.10/site-packages/lightning/pytorch/loops/fit_loop.py:359\u001b[0m, in \u001b[0;36m_FitLoop.advance\u001b[0;34m(self)\u001b[0m\n\u001b[1;32m    357\u001b[0m \u001b[39mwith\u001b[39;00m \u001b[39mself\u001b[39m\u001b[39m.\u001b[39mtrainer\u001b[39m.\u001b[39mprofiler\u001b[39m.\u001b[39mprofile(\u001b[39m\"\u001b[39m\u001b[39mrun_training_epoch\u001b[39m\u001b[39m\"\u001b[39m):\n\u001b[1;32m    358\u001b[0m     \u001b[39massert\u001b[39;00m \u001b[39mself\u001b[39m\u001b[39m.\u001b[39m_data_fetcher \u001b[39mis\u001b[39;00m \u001b[39mnot\u001b[39;00m \u001b[39mNone\u001b[39;00m\n\u001b[0;32m--> 359\u001b[0m     \u001b[39mself\u001b[39;49m\u001b[39m.\u001b[39;49mepoch_loop\u001b[39m.\u001b[39;49mrun(\u001b[39mself\u001b[39;49m\u001b[39m.\u001b[39;49m_data_fetcher)\n",
      "File \u001b[0;32m~/Development/workspaces/rl/venv/lib/python3.10/site-packages/lightning/pytorch/loops/training_epoch_loop.py:136\u001b[0m, in \u001b[0;36m_TrainingEpochLoop.run\u001b[0;34m(self, data_fetcher)\u001b[0m\n\u001b[1;32m    134\u001b[0m \u001b[39mwhile\u001b[39;00m \u001b[39mnot\u001b[39;00m \u001b[39mself\u001b[39m\u001b[39m.\u001b[39mdone:\n\u001b[1;32m    135\u001b[0m     \u001b[39mtry\u001b[39;00m:\n\u001b[0;32m--> 136\u001b[0m         \u001b[39mself\u001b[39;49m\u001b[39m.\u001b[39;49madvance(data_fetcher)\n\u001b[1;32m    137\u001b[0m         \u001b[39mself\u001b[39m\u001b[39m.\u001b[39mon_advance_end(data_fetcher)\n\u001b[1;32m    138\u001b[0m         \u001b[39mself\u001b[39m\u001b[39m.\u001b[39m_restarting \u001b[39m=\u001b[39m \u001b[39mFalse\u001b[39;00m\n",
      "File \u001b[0;32m~/Development/workspaces/rl/venv/lib/python3.10/site-packages/lightning/pytorch/loops/training_epoch_loop.py:240\u001b[0m, in \u001b[0;36m_TrainingEpochLoop.advance\u001b[0;34m(self, data_fetcher)\u001b[0m\n\u001b[1;32m    237\u001b[0m \u001b[39mwith\u001b[39;00m trainer\u001b[39m.\u001b[39mprofiler\u001b[39m.\u001b[39mprofile(\u001b[39m\"\u001b[39m\u001b[39mrun_training_batch\u001b[39m\u001b[39m\"\u001b[39m):\n\u001b[1;32m    238\u001b[0m     \u001b[39mif\u001b[39;00m trainer\u001b[39m.\u001b[39mlightning_module\u001b[39m.\u001b[39mautomatic_optimization:\n\u001b[1;32m    239\u001b[0m         \u001b[39m# in automatic optimization, there can only be one optimizer\u001b[39;00m\n\u001b[0;32m--> 240\u001b[0m         batch_output \u001b[39m=\u001b[39m \u001b[39mself\u001b[39;49m\u001b[39m.\u001b[39;49mautomatic_optimization\u001b[39m.\u001b[39;49mrun(trainer\u001b[39m.\u001b[39;49moptimizers[\u001b[39m0\u001b[39;49m], batch_idx, kwargs)\n\u001b[1;32m    241\u001b[0m     \u001b[39melse\u001b[39;00m:\n\u001b[1;32m    242\u001b[0m         batch_output \u001b[39m=\u001b[39m \u001b[39mself\u001b[39m\u001b[39m.\u001b[39mmanual_optimization\u001b[39m.\u001b[39mrun(kwargs)\n",
      "File \u001b[0;32m~/Development/workspaces/rl/venv/lib/python3.10/site-packages/lightning/pytorch/loops/optimization/automatic.py:187\u001b[0m, in \u001b[0;36m_AutomaticOptimization.run\u001b[0;34m(self, optimizer, batch_idx, kwargs)\u001b[0m\n\u001b[1;32m    180\u001b[0m         closure()\n\u001b[1;32m    182\u001b[0m \u001b[39m# ------------------------------\u001b[39;00m\n\u001b[1;32m    183\u001b[0m \u001b[39m# BACKWARD PASS\u001b[39;00m\n\u001b[1;32m    184\u001b[0m \u001b[39m# ------------------------------\u001b[39;00m\n\u001b[1;32m    185\u001b[0m \u001b[39m# gradient update with accumulated gradients\u001b[39;00m\n\u001b[1;32m    186\u001b[0m \u001b[39melse\u001b[39;00m:\n\u001b[0;32m--> 187\u001b[0m     \u001b[39mself\u001b[39;49m\u001b[39m.\u001b[39;49m_optimizer_step(batch_idx, closure)\n\u001b[1;32m    189\u001b[0m result \u001b[39m=\u001b[39m closure\u001b[39m.\u001b[39mconsume_result()\n\u001b[1;32m    190\u001b[0m \u001b[39mif\u001b[39;00m result\u001b[39m.\u001b[39mloss \u001b[39mis\u001b[39;00m \u001b[39mNone\u001b[39;00m:\n",
      "File \u001b[0;32m~/Development/workspaces/rl/venv/lib/python3.10/site-packages/lightning/pytorch/loops/optimization/automatic.py:265\u001b[0m, in \u001b[0;36m_AutomaticOptimization._optimizer_step\u001b[0;34m(self, batch_idx, train_step_and_backward_closure)\u001b[0m\n\u001b[1;32m    262\u001b[0m     \u001b[39mself\u001b[39m\u001b[39m.\u001b[39moptim_progress\u001b[39m.\u001b[39moptimizer\u001b[39m.\u001b[39mstep\u001b[39m.\u001b[39mincrement_ready()\n\u001b[1;32m    264\u001b[0m \u001b[39m# model hook\u001b[39;00m\n\u001b[0;32m--> 265\u001b[0m call\u001b[39m.\u001b[39;49m_call_lightning_module_hook(\n\u001b[1;32m    266\u001b[0m     trainer,\n\u001b[1;32m    267\u001b[0m     \u001b[39m\"\u001b[39;49m\u001b[39moptimizer_step\u001b[39;49m\u001b[39m\"\u001b[39;49m,\n\u001b[1;32m    268\u001b[0m     trainer\u001b[39m.\u001b[39;49mcurrent_epoch,\n\u001b[1;32m    269\u001b[0m     batch_idx,\n\u001b[1;32m    270\u001b[0m     optimizer,\n\u001b[1;32m    271\u001b[0m     train_step_and_backward_closure,\n\u001b[1;32m    272\u001b[0m )\n\u001b[1;32m    274\u001b[0m \u001b[39mif\u001b[39;00m \u001b[39mnot\u001b[39;00m should_accumulate:\n\u001b[1;32m    275\u001b[0m     \u001b[39mself\u001b[39m\u001b[39m.\u001b[39moptim_progress\u001b[39m.\u001b[39moptimizer\u001b[39m.\u001b[39mstep\u001b[39m.\u001b[39mincrement_completed()\n",
      "File \u001b[0;32m~/Development/workspaces/rl/venv/lib/python3.10/site-packages/lightning/pytorch/trainer/call.py:157\u001b[0m, in \u001b[0;36m_call_lightning_module_hook\u001b[0;34m(trainer, hook_name, pl_module, *args, **kwargs)\u001b[0m\n\u001b[1;32m    154\u001b[0m pl_module\u001b[39m.\u001b[39m_current_fx_name \u001b[39m=\u001b[39m hook_name\n\u001b[1;32m    156\u001b[0m \u001b[39mwith\u001b[39;00m trainer\u001b[39m.\u001b[39mprofiler\u001b[39m.\u001b[39mprofile(\u001b[39mf\u001b[39m\u001b[39m\"\u001b[39m\u001b[39m[LightningModule]\u001b[39m\u001b[39m{\u001b[39;00mpl_module\u001b[39m.\u001b[39m\u001b[39m__class__\u001b[39m\u001b[39m.\u001b[39m\u001b[39m__name__\u001b[39m\u001b[39m}\u001b[39;00m\u001b[39m.\u001b[39m\u001b[39m{\u001b[39;00mhook_name\u001b[39m}\u001b[39;00m\u001b[39m\"\u001b[39m):\n\u001b[0;32m--> 157\u001b[0m     output \u001b[39m=\u001b[39m fn(\u001b[39m*\u001b[39;49margs, \u001b[39m*\u001b[39;49m\u001b[39m*\u001b[39;49mkwargs)\n\u001b[1;32m    159\u001b[0m \u001b[39m# restore current_fx when nested context\u001b[39;00m\n\u001b[1;32m    160\u001b[0m pl_module\u001b[39m.\u001b[39m_current_fx_name \u001b[39m=\u001b[39m prev_fx_name\n",
      "File \u001b[0;32m~/Development/workspaces/rl/venv/lib/python3.10/site-packages/lightning/pytorch/core/module.py:1291\u001b[0m, in \u001b[0;36mLightningModule.optimizer_step\u001b[0;34m(self, epoch, batch_idx, optimizer, optimizer_closure)\u001b[0m\n\u001b[1;32m   1252\u001b[0m \u001b[39mdef\u001b[39;00m \u001b[39moptimizer_step\u001b[39m(\n\u001b[1;32m   1253\u001b[0m     \u001b[39mself\u001b[39m,\n\u001b[1;32m   1254\u001b[0m     epoch: \u001b[39mint\u001b[39m,\n\u001b[0;32m   (...)\u001b[0m\n\u001b[1;32m   1257\u001b[0m     optimizer_closure: Optional[Callable[[], Any]] \u001b[39m=\u001b[39m \u001b[39mNone\u001b[39;00m,\n\u001b[1;32m   1258\u001b[0m ) \u001b[39m-\u001b[39m\u001b[39m>\u001b[39m \u001b[39mNone\u001b[39;00m:\n\u001b[1;32m   1259\u001b[0m \u001b[39m    \u001b[39m\u001b[39mr\u001b[39m\u001b[39m\"\"\"Override this method to adjust the default way the :class:`~lightning.pytorch.trainer.trainer.Trainer` calls\u001b[39;00m\n\u001b[1;32m   1260\u001b[0m \u001b[39m    the optimizer.\u001b[39;00m\n\u001b[1;32m   1261\u001b[0m \n\u001b[0;32m   (...)\u001b[0m\n\u001b[1;32m   1289\u001b[0m \n\u001b[1;32m   1290\u001b[0m \u001b[39m    \"\"\"\u001b[39;00m\n\u001b[0;32m-> 1291\u001b[0m     optimizer\u001b[39m.\u001b[39;49mstep(closure\u001b[39m=\u001b[39;49moptimizer_closure)\n",
      "File \u001b[0;32m~/Development/workspaces/rl/venv/lib/python3.10/site-packages/lightning/pytorch/core/optimizer.py:151\u001b[0m, in \u001b[0;36mLightningOptimizer.step\u001b[0;34m(self, closure, **kwargs)\u001b[0m\n\u001b[1;32m    148\u001b[0m     \u001b[39mraise\u001b[39;00m MisconfigurationException(\u001b[39m\"\u001b[39m\u001b[39mWhen `optimizer.step(closure)` is called, the closure should be callable\u001b[39m\u001b[39m\"\u001b[39m)\n\u001b[1;32m    150\u001b[0m \u001b[39massert\u001b[39;00m \u001b[39mself\u001b[39m\u001b[39m.\u001b[39m_strategy \u001b[39mis\u001b[39;00m \u001b[39mnot\u001b[39;00m \u001b[39mNone\u001b[39;00m\n\u001b[0;32m--> 151\u001b[0m step_output \u001b[39m=\u001b[39m \u001b[39mself\u001b[39;49m\u001b[39m.\u001b[39;49m_strategy\u001b[39m.\u001b[39;49moptimizer_step(\u001b[39mself\u001b[39;49m\u001b[39m.\u001b[39;49m_optimizer, closure, \u001b[39m*\u001b[39;49m\u001b[39m*\u001b[39;49mkwargs)\n\u001b[1;32m    153\u001b[0m \u001b[39mself\u001b[39m\u001b[39m.\u001b[39m_on_after_step()\n\u001b[1;32m    155\u001b[0m \u001b[39mreturn\u001b[39;00m step_output\n",
      "File \u001b[0;32m~/Development/workspaces/rl/venv/lib/python3.10/site-packages/lightning/pytorch/strategies/strategy.py:230\u001b[0m, in \u001b[0;36mStrategy.optimizer_step\u001b[0;34m(self, optimizer, closure, model, **kwargs)\u001b[0m\n\u001b[1;32m    228\u001b[0m \u001b[39m# TODO(fabric): remove assertion once strategy's optimizer_step typing is fixed\u001b[39;00m\n\u001b[1;32m    229\u001b[0m \u001b[39massert\u001b[39;00m \u001b[39misinstance\u001b[39m(model, pl\u001b[39m.\u001b[39mLightningModule)\n\u001b[0;32m--> 230\u001b[0m \u001b[39mreturn\u001b[39;00m \u001b[39mself\u001b[39;49m\u001b[39m.\u001b[39;49mprecision_plugin\u001b[39m.\u001b[39;49moptimizer_step(optimizer, model\u001b[39m=\u001b[39;49mmodel, closure\u001b[39m=\u001b[39;49mclosure, \u001b[39m*\u001b[39;49m\u001b[39m*\u001b[39;49mkwargs)\n",
      "File \u001b[0;32m~/Development/workspaces/rl/venv/lib/python3.10/site-packages/lightning/pytorch/plugins/precision/precision.py:117\u001b[0m, in \u001b[0;36mPrecision.optimizer_step\u001b[0;34m(self, optimizer, model, closure, **kwargs)\u001b[0m\n\u001b[1;32m    115\u001b[0m \u001b[39m\u001b[39m\u001b[39m\"\"\"Hook to run the optimizer step.\"\"\"\u001b[39;00m\n\u001b[1;32m    116\u001b[0m closure \u001b[39m=\u001b[39m partial(\u001b[39mself\u001b[39m\u001b[39m.\u001b[39m_wrap_closure, model, optimizer, closure)\n\u001b[0;32m--> 117\u001b[0m \u001b[39mreturn\u001b[39;00m optimizer\u001b[39m.\u001b[39;49mstep(closure\u001b[39m=\u001b[39;49mclosure, \u001b[39m*\u001b[39;49m\u001b[39m*\u001b[39;49mkwargs)\n",
      "File \u001b[0;32m~/Development/workspaces/rl/venv/lib/python3.10/site-packages/torch/optim/optimizer.py:373\u001b[0m, in \u001b[0;36mOptimizer.profile_hook_step.<locals>.wrapper\u001b[0;34m(*args, **kwargs)\u001b[0m\n\u001b[1;32m    368\u001b[0m         \u001b[39melse\u001b[39;00m:\n\u001b[1;32m    369\u001b[0m             \u001b[39mraise\u001b[39;00m \u001b[39mRuntimeError\u001b[39;00m(\n\u001b[1;32m    370\u001b[0m                 \u001b[39mf\u001b[39m\u001b[39m\"\u001b[39m\u001b[39m{\u001b[39;00mfunc\u001b[39m}\u001b[39;00m\u001b[39m must return None or a tuple of (new_args, new_kwargs), but got \u001b[39m\u001b[39m{\u001b[39;00mresult\u001b[39m}\u001b[39;00m\u001b[39m.\u001b[39m\u001b[39m\"\u001b[39m\n\u001b[1;32m    371\u001b[0m             )\n\u001b[0;32m--> 373\u001b[0m out \u001b[39m=\u001b[39m func(\u001b[39m*\u001b[39;49margs, \u001b[39m*\u001b[39;49m\u001b[39m*\u001b[39;49mkwargs)\n\u001b[1;32m    374\u001b[0m \u001b[39mself\u001b[39m\u001b[39m.\u001b[39m_optimizer_step_code()\n\u001b[1;32m    376\u001b[0m \u001b[39m# call optimizer step post hooks\u001b[39;00m\n",
      "File \u001b[0;32m~/Development/workspaces/rl/venv/lib/python3.10/site-packages/torch/optim/optimizer.py:76\u001b[0m, in \u001b[0;36m_use_grad_for_differentiable.<locals>._use_grad\u001b[0;34m(self, *args, **kwargs)\u001b[0m\n\u001b[1;32m     74\u001b[0m     torch\u001b[39m.\u001b[39mset_grad_enabled(\u001b[39mself\u001b[39m\u001b[39m.\u001b[39mdefaults[\u001b[39m'\u001b[39m\u001b[39mdifferentiable\u001b[39m\u001b[39m'\u001b[39m])\n\u001b[1;32m     75\u001b[0m     torch\u001b[39m.\u001b[39m_dynamo\u001b[39m.\u001b[39mgraph_break()\n\u001b[0;32m---> 76\u001b[0m     ret \u001b[39m=\u001b[39m func(\u001b[39mself\u001b[39;49m, \u001b[39m*\u001b[39;49margs, \u001b[39m*\u001b[39;49m\u001b[39m*\u001b[39;49mkwargs)\n\u001b[1;32m     77\u001b[0m \u001b[39mfinally\u001b[39;00m:\n\u001b[1;32m     78\u001b[0m     torch\u001b[39m.\u001b[39m_dynamo\u001b[39m.\u001b[39mgraph_break()\n",
      "File \u001b[0;32m~/Development/workspaces/rl/venv/lib/python3.10/site-packages/torch/optim/adam.py:143\u001b[0m, in \u001b[0;36mAdam.step\u001b[0;34m(self, closure)\u001b[0m\n\u001b[1;32m    141\u001b[0m \u001b[39mif\u001b[39;00m closure \u001b[39mis\u001b[39;00m \u001b[39mnot\u001b[39;00m \u001b[39mNone\u001b[39;00m:\n\u001b[1;32m    142\u001b[0m     \u001b[39mwith\u001b[39;00m torch\u001b[39m.\u001b[39menable_grad():\n\u001b[0;32m--> 143\u001b[0m         loss \u001b[39m=\u001b[39m closure()\n\u001b[1;32m    145\u001b[0m \u001b[39mfor\u001b[39;00m group \u001b[39min\u001b[39;00m \u001b[39mself\u001b[39m\u001b[39m.\u001b[39mparam_groups:\n\u001b[1;32m    146\u001b[0m     params_with_grad \u001b[39m=\u001b[39m []\n",
      "File \u001b[0;32m~/Development/workspaces/rl/venv/lib/python3.10/site-packages/lightning/pytorch/plugins/precision/precision.py:104\u001b[0m, in \u001b[0;36mPrecision._wrap_closure\u001b[0;34m(self, model, optimizer, closure)\u001b[0m\n\u001b[1;32m     91\u001b[0m \u001b[39mdef\u001b[39;00m \u001b[39m_wrap_closure\u001b[39m(\n\u001b[1;32m     92\u001b[0m     \u001b[39mself\u001b[39m,\n\u001b[1;32m     93\u001b[0m     model: \u001b[39m\"\u001b[39m\u001b[39mpl.LightningModule\u001b[39m\u001b[39m\"\u001b[39m,\n\u001b[1;32m     94\u001b[0m     optimizer: Optimizer,\n\u001b[1;32m     95\u001b[0m     closure: Callable[[], Any],\n\u001b[1;32m     96\u001b[0m ) \u001b[39m-\u001b[39m\u001b[39m>\u001b[39m Any:\n\u001b[1;32m     97\u001b[0m \u001b[39m    \u001b[39m\u001b[39m\"\"\"This double-closure allows makes sure the ``closure`` is executed before the ``on_before_optimizer_step``\u001b[39;00m\n\u001b[1;32m     98\u001b[0m \u001b[39m    hook is called.\u001b[39;00m\n\u001b[1;32m     99\u001b[0m \n\u001b[0;32m   (...)\u001b[0m\n\u001b[1;32m    102\u001b[0m \n\u001b[1;32m    103\u001b[0m \u001b[39m    \"\"\"\u001b[39;00m\n\u001b[0;32m--> 104\u001b[0m     closure_result \u001b[39m=\u001b[39m closure()\n\u001b[1;32m    105\u001b[0m     \u001b[39mself\u001b[39m\u001b[39m.\u001b[39m_after_closure(model, optimizer)\n\u001b[1;32m    106\u001b[0m     \u001b[39mreturn\u001b[39;00m closure_result\n",
      "File \u001b[0;32m~/Development/workspaces/rl/venv/lib/python3.10/site-packages/lightning/pytorch/loops/optimization/automatic.py:140\u001b[0m, in \u001b[0;36mClosure.__call__\u001b[0;34m(self, *args, **kwargs)\u001b[0m\n\u001b[1;32m    139\u001b[0m \u001b[39mdef\u001b[39;00m \u001b[39m__call__\u001b[39m(\u001b[39mself\u001b[39m, \u001b[39m*\u001b[39margs: Any, \u001b[39m*\u001b[39m\u001b[39m*\u001b[39mkwargs: Any) \u001b[39m-\u001b[39m\u001b[39m>\u001b[39m Optional[Tensor]:\n\u001b[0;32m--> 140\u001b[0m     \u001b[39mself\u001b[39m\u001b[39m.\u001b[39m_result \u001b[39m=\u001b[39m \u001b[39mself\u001b[39;49m\u001b[39m.\u001b[39;49mclosure(\u001b[39m*\u001b[39;49margs, \u001b[39m*\u001b[39;49m\u001b[39m*\u001b[39;49mkwargs)\n\u001b[1;32m    141\u001b[0m     \u001b[39mreturn\u001b[39;00m \u001b[39mself\u001b[39m\u001b[39m.\u001b[39m_result\u001b[39m.\u001b[39mloss\n",
      "File \u001b[0;32m~/Development/workspaces/rl/venv/lib/python3.10/site-packages/torch/utils/_contextlib.py:115\u001b[0m, in \u001b[0;36mcontext_decorator.<locals>.decorate_context\u001b[0;34m(*args, **kwargs)\u001b[0m\n\u001b[1;32m    112\u001b[0m \u001b[39m@functools\u001b[39m\u001b[39m.\u001b[39mwraps(func)\n\u001b[1;32m    113\u001b[0m \u001b[39mdef\u001b[39;00m \u001b[39mdecorate_context\u001b[39m(\u001b[39m*\u001b[39margs, \u001b[39m*\u001b[39m\u001b[39m*\u001b[39mkwargs):\n\u001b[1;32m    114\u001b[0m     \u001b[39mwith\u001b[39;00m ctx_factory():\n\u001b[0;32m--> 115\u001b[0m         \u001b[39mreturn\u001b[39;00m func(\u001b[39m*\u001b[39;49margs, \u001b[39m*\u001b[39;49m\u001b[39m*\u001b[39;49mkwargs)\n",
      "File \u001b[0;32m~/Development/workspaces/rl/venv/lib/python3.10/site-packages/lightning/pytorch/loops/optimization/automatic.py:135\u001b[0m, in \u001b[0;36mClosure.closure\u001b[0;34m(self, *args, **kwargs)\u001b[0m\n\u001b[1;32m    132\u001b[0m     \u001b[39mself\u001b[39m\u001b[39m.\u001b[39m_zero_grad_fn()\n\u001b[1;32m    134\u001b[0m \u001b[39mif\u001b[39;00m \u001b[39mself\u001b[39m\u001b[39m.\u001b[39m_backward_fn \u001b[39mis\u001b[39;00m \u001b[39mnot\u001b[39;00m \u001b[39mNone\u001b[39;00m \u001b[39mand\u001b[39;00m step_output\u001b[39m.\u001b[39mclosure_loss \u001b[39mis\u001b[39;00m \u001b[39mnot\u001b[39;00m \u001b[39mNone\u001b[39;00m:\n\u001b[0;32m--> 135\u001b[0m     \u001b[39mself\u001b[39;49m\u001b[39m.\u001b[39;49m_backward_fn(step_output\u001b[39m.\u001b[39;49mclosure_loss)\n\u001b[1;32m    137\u001b[0m \u001b[39mreturn\u001b[39;00m step_output\n",
      "File \u001b[0;32m~/Development/workspaces/rl/venv/lib/python3.10/site-packages/lightning/pytorch/loops/optimization/automatic.py:236\u001b[0m, in \u001b[0;36m_AutomaticOptimization._make_backward_fn.<locals>.backward_fn\u001b[0;34m(loss)\u001b[0m\n\u001b[1;32m    235\u001b[0m \u001b[39mdef\u001b[39;00m \u001b[39mbackward_fn\u001b[39m(loss: Tensor) \u001b[39m-\u001b[39m\u001b[39m>\u001b[39m \u001b[39mNone\u001b[39;00m:\n\u001b[0;32m--> 236\u001b[0m     call\u001b[39m.\u001b[39;49m_call_strategy_hook(\u001b[39mself\u001b[39;49m\u001b[39m.\u001b[39;49mtrainer, \u001b[39m\"\u001b[39;49m\u001b[39mbackward\u001b[39;49m\u001b[39m\"\u001b[39;49m, loss, optimizer)\n",
      "File \u001b[0;32m~/Development/workspaces/rl/venv/lib/python3.10/site-packages/lightning/pytorch/trainer/call.py:309\u001b[0m, in \u001b[0;36m_call_strategy_hook\u001b[0;34m(trainer, hook_name, *args, **kwargs)\u001b[0m\n\u001b[1;32m    306\u001b[0m     \u001b[39mreturn\u001b[39;00m \u001b[39mNone\u001b[39;00m\n\u001b[1;32m    308\u001b[0m \u001b[39mwith\u001b[39;00m trainer\u001b[39m.\u001b[39mprofiler\u001b[39m.\u001b[39mprofile(\u001b[39mf\u001b[39m\u001b[39m\"\u001b[39m\u001b[39m[Strategy]\u001b[39m\u001b[39m{\u001b[39;00mtrainer\u001b[39m.\u001b[39mstrategy\u001b[39m.\u001b[39m\u001b[39m__class__\u001b[39m\u001b[39m.\u001b[39m\u001b[39m__name__\u001b[39m\u001b[39m}\u001b[39;00m\u001b[39m.\u001b[39m\u001b[39m{\u001b[39;00mhook_name\u001b[39m}\u001b[39;00m\u001b[39m\"\u001b[39m):\n\u001b[0;32m--> 309\u001b[0m     output \u001b[39m=\u001b[39m fn(\u001b[39m*\u001b[39;49margs, \u001b[39m*\u001b[39;49m\u001b[39m*\u001b[39;49mkwargs)\n\u001b[1;32m    311\u001b[0m \u001b[39m# restore current_fx when nested context\u001b[39;00m\n\u001b[1;32m    312\u001b[0m pl_module\u001b[39m.\u001b[39m_current_fx_name \u001b[39m=\u001b[39m prev_fx_name\n",
      "File \u001b[0;32m~/Development/workspaces/rl/venv/lib/python3.10/site-packages/lightning/pytorch/strategies/strategy.py:204\u001b[0m, in \u001b[0;36mStrategy.backward\u001b[0;34m(self, closure_loss, optimizer, *args, **kwargs)\u001b[0m\n\u001b[1;32m    201\u001b[0m \u001b[39massert\u001b[39;00m \u001b[39mself\u001b[39m\u001b[39m.\u001b[39mlightning_module \u001b[39mis\u001b[39;00m \u001b[39mnot\u001b[39;00m \u001b[39mNone\u001b[39;00m\n\u001b[1;32m    202\u001b[0m closure_loss \u001b[39m=\u001b[39m \u001b[39mself\u001b[39m\u001b[39m.\u001b[39mprecision_plugin\u001b[39m.\u001b[39mpre_backward(closure_loss, \u001b[39mself\u001b[39m\u001b[39m.\u001b[39mlightning_module)\n\u001b[0;32m--> 204\u001b[0m \u001b[39mself\u001b[39;49m\u001b[39m.\u001b[39;49mprecision_plugin\u001b[39m.\u001b[39;49mbackward(closure_loss, \u001b[39mself\u001b[39;49m\u001b[39m.\u001b[39;49mlightning_module, optimizer, \u001b[39m*\u001b[39;49margs, \u001b[39m*\u001b[39;49m\u001b[39m*\u001b[39;49mkwargs)\n\u001b[1;32m    206\u001b[0m closure_loss \u001b[39m=\u001b[39m \u001b[39mself\u001b[39m\u001b[39m.\u001b[39mprecision_plugin\u001b[39m.\u001b[39mpost_backward(closure_loss, \u001b[39mself\u001b[39m\u001b[39m.\u001b[39mlightning_module)\n\u001b[1;32m    207\u001b[0m \u001b[39mself\u001b[39m\u001b[39m.\u001b[39mpost_backward(closure_loss)\n",
      "File \u001b[0;32m~/Development/workspaces/rl/venv/lib/python3.10/site-packages/lightning/pytorch/plugins/precision/precision.py:69\u001b[0m, in \u001b[0;36mPrecision.backward\u001b[0;34m(self, tensor, model, optimizer, *args, **kwargs)\u001b[0m\n\u001b[1;32m     50\u001b[0m \u001b[39mdef\u001b[39;00m \u001b[39mbackward\u001b[39m(  \u001b[39m# type: ignore[override]\u001b[39;00m\n\u001b[1;32m     51\u001b[0m     \u001b[39mself\u001b[39m,\n\u001b[1;32m     52\u001b[0m     tensor: Tensor,\n\u001b[0;32m   (...)\u001b[0m\n\u001b[1;32m     56\u001b[0m     \u001b[39m*\u001b[39m\u001b[39m*\u001b[39mkwargs: Any,\n\u001b[1;32m     57\u001b[0m ) \u001b[39m-\u001b[39m\u001b[39m>\u001b[39m \u001b[39mNone\u001b[39;00m:\n\u001b[1;32m     58\u001b[0m \u001b[39m    \u001b[39m\u001b[39mr\u001b[39m\u001b[39m\"\"\"Performs the actual backpropagation.\u001b[39;00m\n\u001b[1;32m     59\u001b[0m \n\u001b[1;32m     60\u001b[0m \u001b[39m    Args:\u001b[39;00m\n\u001b[0;32m   (...)\u001b[0m\n\u001b[1;32m     67\u001b[0m \n\u001b[1;32m     68\u001b[0m \u001b[39m    \"\"\"\u001b[39;00m\n\u001b[0;32m---> 69\u001b[0m     model\u001b[39m.\u001b[39;49mbackward(tensor, \u001b[39m*\u001b[39;49margs, \u001b[39m*\u001b[39;49m\u001b[39m*\u001b[39;49mkwargs)\n",
      "File \u001b[0;32m~/Development/workspaces/rl/venv/lib/python3.10/site-packages/lightning/pytorch/core/module.py:1078\u001b[0m, in \u001b[0;36mLightningModule.backward\u001b[0;34m(self, loss, *args, **kwargs)\u001b[0m\n\u001b[1;32m   1076\u001b[0m     \u001b[39mself\u001b[39m\u001b[39m.\u001b[39m_fabric\u001b[39m.\u001b[39mbackward(loss, \u001b[39m*\u001b[39margs, \u001b[39m*\u001b[39m\u001b[39m*\u001b[39mkwargs)\n\u001b[1;32m   1077\u001b[0m \u001b[39melse\u001b[39;00m:\n\u001b[0;32m-> 1078\u001b[0m     loss\u001b[39m.\u001b[39;49mbackward(\u001b[39m*\u001b[39;49margs, \u001b[39m*\u001b[39;49m\u001b[39m*\u001b[39;49mkwargs)\n",
      "File \u001b[0;32m~/Development/workspaces/rl/venv/lib/python3.10/site-packages/torch/_tensor.py:492\u001b[0m, in \u001b[0;36mTensor.backward\u001b[0;34m(self, gradient, retain_graph, create_graph, inputs)\u001b[0m\n\u001b[1;32m    482\u001b[0m \u001b[39mif\u001b[39;00m has_torch_function_unary(\u001b[39mself\u001b[39m):\n\u001b[1;32m    483\u001b[0m     \u001b[39mreturn\u001b[39;00m handle_torch_function(\n\u001b[1;32m    484\u001b[0m         Tensor\u001b[39m.\u001b[39mbackward,\n\u001b[1;32m    485\u001b[0m         (\u001b[39mself\u001b[39m,),\n\u001b[0;32m   (...)\u001b[0m\n\u001b[1;32m    490\u001b[0m         inputs\u001b[39m=\u001b[39minputs,\n\u001b[1;32m    491\u001b[0m     )\n\u001b[0;32m--> 492\u001b[0m torch\u001b[39m.\u001b[39;49mautograd\u001b[39m.\u001b[39;49mbackward(\n\u001b[1;32m    493\u001b[0m     \u001b[39mself\u001b[39;49m, gradient, retain_graph, create_graph, inputs\u001b[39m=\u001b[39;49minputs\n\u001b[1;32m    494\u001b[0m )\n",
      "File \u001b[0;32m~/Development/workspaces/rl/venv/lib/python3.10/site-packages/torch/autograd/__init__.py:251\u001b[0m, in \u001b[0;36mbackward\u001b[0;34m(tensors, grad_tensors, retain_graph, create_graph, grad_variables, inputs)\u001b[0m\n\u001b[1;32m    246\u001b[0m     retain_graph \u001b[39m=\u001b[39m create_graph\n\u001b[1;32m    248\u001b[0m \u001b[39m# The reason we repeat the same comment below is that\u001b[39;00m\n\u001b[1;32m    249\u001b[0m \u001b[39m# some Python versions print out the first line of a multi-line function\u001b[39;00m\n\u001b[1;32m    250\u001b[0m \u001b[39m# calls in the traceback and some print out the last line\u001b[39;00m\n\u001b[0;32m--> 251\u001b[0m Variable\u001b[39m.\u001b[39;49m_execution_engine\u001b[39m.\u001b[39;49mrun_backward(  \u001b[39m# Calls into the C++ engine to run the backward pass\u001b[39;49;00m\n\u001b[1;32m    252\u001b[0m     tensors,\n\u001b[1;32m    253\u001b[0m     grad_tensors_,\n\u001b[1;32m    254\u001b[0m     retain_graph,\n\u001b[1;32m    255\u001b[0m     create_graph,\n\u001b[1;32m    256\u001b[0m     inputs,\n\u001b[1;32m    257\u001b[0m     allow_unreachable\u001b[39m=\u001b[39;49m\u001b[39mTrue\u001b[39;49;00m,\n\u001b[1;32m    258\u001b[0m     accumulate_grad\u001b[39m=\u001b[39;49m\u001b[39mTrue\u001b[39;49;00m,\n\u001b[1;32m    259\u001b[0m )\n",
      "File \u001b[0;32m~/Development/workspaces/rl/venv/lib/python3.10/site-packages/wandb/wandb_torch.py:272\u001b[0m, in \u001b[0;36mTorchHistory._hook_variable_gradient_stats.<locals>.<lambda>\u001b[0;34m(grad)\u001b[0m\n\u001b[1;32m    269\u001b[0m         \u001b[39mreturn\u001b[39;00m\n\u001b[1;32m    270\u001b[0m     \u001b[39mself\u001b[39m\u001b[39m.\u001b[39mlog_tensor_stats(grad\u001b[39m.\u001b[39mdata, name)\n\u001b[0;32m--> 272\u001b[0m handle \u001b[39m=\u001b[39m var\u001b[39m.\u001b[39mregister_hook(\u001b[39mlambda\u001b[39;00m grad: _callback(grad, log_track))\n\u001b[1;32m    273\u001b[0m \u001b[39mself\u001b[39m\u001b[39m.\u001b[39m_hook_handles[name] \u001b[39m=\u001b[39m handle\n\u001b[1;32m    274\u001b[0m \u001b[39mreturn\u001b[39;00m handle\n",
      "File \u001b[0;32m~/Development/workspaces/rl/venv/lib/python3.10/site-packages/wandb/wandb_torch.py:270\u001b[0m, in \u001b[0;36mTorchHistory._hook_variable_gradient_stats.<locals>._callback\u001b[0;34m(grad, log_track)\u001b[0m\n\u001b[1;32m    268\u001b[0m \u001b[39mif\u001b[39;00m \u001b[39mnot\u001b[39;00m log_track_update(log_track):\n\u001b[1;32m    269\u001b[0m     \u001b[39mreturn\u001b[39;00m\n\u001b[0;32m--> 270\u001b[0m \u001b[39mself\u001b[39;49m\u001b[39m.\u001b[39;49mlog_tensor_stats(grad\u001b[39m.\u001b[39;49mdata, name)\n",
      "File \u001b[0;32m~/Development/workspaces/rl/venv/lib/python3.10/site-packages/wandb/wandb_torch.py:248\u001b[0m, in \u001b[0;36mTorchHistory.log_tensor_stats\u001b[0;34m(self, tensor, name)\u001b[0m\n\u001b[1;32m    245\u001b[0m     tensor \u001b[39m=\u001b[39m torch\u001b[39m.\u001b[39mTensor(tensor_np)\n\u001b[1;32m    246\u001b[0m     bins \u001b[39m=\u001b[39m torch\u001b[39m.\u001b[39mTensor(bins_np)\n\u001b[0;32m--> 248\u001b[0m wandb\u001b[39m.\u001b[39;49mrun\u001b[39m.\u001b[39;49m_log(\n\u001b[1;32m    249\u001b[0m     {name: wandb\u001b[39m.\u001b[39mHistogram(np_histogram\u001b[39m=\u001b[39m(tensor\u001b[39m.\u001b[39mtolist(), bins\u001b[39m.\u001b[39mtolist()))},\n\u001b[1;32m    250\u001b[0m     commit\u001b[39m=\u001b[39m\u001b[39mFalse\u001b[39;00m,\n\u001b[1;32m    251\u001b[0m )\n",
      "\u001b[0;31mAttributeError\u001b[0m: 'NoneType' object has no attribute '_log'"
     ]
    }
   ],
   "source": [
    "trainer = L.Trainer(max_epochs=500)\n",
    "trainer.fit(model, ReplayMemoryDataset(replay_memory))"
   ]
  },
  {
   "cell_type": "code",
   "execution_count": 38,
   "id": "2e282836",
   "metadata": {},
   "outputs": [
    {
     "data": {
      "text/plain": [
       "{'learning_rate': 0.0001,\n",
       " 'architecture': 'DQN',\n",
       " 'environment': 'CartPole-v1',\n",
       " 'epsilon': 1,\n",
       " 'gamma': 0.99,\n",
       " 'bs': 16,\n",
       " 'replay_memory_max_size': 10000,\n",
       " 'number_of_episodes': 500,\n",
       " 'max_episode_length': 500,\n",
       " 'sync_every_n_steps': 500,\n",
       " 'epsilon_annealing_steps': 1000,\n",
       " 'loss': 'SmoothL1Loss()'}"
      ]
     },
     "execution_count": 38,
     "metadata": {},
     "output_type": "execute_result"
    }
   ],
   "source": [
    "config"
   ]
  },
  {
   "cell_type": "code",
   "execution_count": null,
   "id": "aa5ab0b6",
   "metadata": {},
   "outputs": [],
   "source": []
  }
 ],
 "metadata": {
  "kernelspec": {
   "display_name": "venv",
   "language": "python",
   "name": "python3"
  },
  "language_info": {
   "codemirror_mode": {
    "name": "ipython",
    "version": 3
   },
   "file_extension": ".py",
   "mimetype": "text/x-python",
   "name": "python",
   "nbconvert_exporter": "python",
   "pygments_lexer": "ipython3",
   "version": "3.10.7"
  }
 },
 "nbformat": 4,
 "nbformat_minor": 5
}
