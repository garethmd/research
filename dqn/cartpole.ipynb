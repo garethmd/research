{
 "cells": [
  {
   "cell_type": "code",
   "execution_count": 2,
   "id": "19e4e2e7-cfea-4164-bb47-d7a6fd1f4e03",
   "metadata": {},
   "outputs": [],
   "source": [
    "import gymnasium as gym\n",
    "import torch\n",
    "import wandb\n",
    "import torch.nn as nn\n",
    "import numpy as np"
   ]
  },
  {
   "cell_type": "code",
   "execution_count": 5,
   "id": "e64751f1",
   "metadata": {},
   "outputs": [],
   "source": [
    "bs = 16\n",
    "gamma = 0.99\n",
    "epsilon = 1\n",
    "lr=1e-4\n",
    "ENV_NAME =  \"CartPole-v1\"\n",
    "replay_memory_max_size = 10000\n",
    "number_of_episodes = 500\n",
    "sync_every_n_steps = 500\n",
    "max_episode_length = 500\n",
    "epsilon_annealing_steps = 1000\n",
    "loss_fn = nn.SmoothL1Loss()"
   ]
  },
  {
   "cell_type": "code",
   "execution_count": 6,
   "id": "51ed29b0",
   "metadata": {},
   "outputs": [
    {
     "data": {
      "text/plain": [
       "{'learning_rate': 0.0001,\n",
       " 'architecture': 'DQN',\n",
       " 'environment': 'CartPole-v1',\n",
       " 'epsilon': 1,\n",
       " 'gamma': 0.99,\n",
       " 'bs': 16,\n",
       " 'replay_memory_max_size': 10000,\n",
       " 'number_of_episodes': 500,\n",
       " 'max_episode_length': 500,\n",
       " 'sync_every_n_steps': 500,\n",
       " 'epsilon_annealing_steps': 1000,\n",
       " 'loss': 'SmoothL1Loss()'}"
      ]
     },
     "execution_count": 6,
     "metadata": {},
     "output_type": "execute_result"
    }
   ],
   "source": [
    "config = {\n",
    "    \"learning_rate\": lr,\n",
    "    \"architecture\": \"DQN\",\n",
    "    \"environment\": ENV_NAME,\n",
    "    \"epsilon\": epsilon,\n",
    "    \"gamma\":gamma,\n",
    "    \"bs\":bs,\n",
    "    \"replay_memory_max_size\":replay_memory_max_size,\n",
    "    \"number_of_episodes\":number_of_episodes,\n",
    "    \"max_episode_length\":max_episode_length,\n",
    "    \"sync_every_n_steps\": sync_every_n_steps,\n",
    "    \"epsilon_annealing_steps\":epsilon_annealing_steps,\n",
    "    \"loss\": str(loss_fn),\n",
    "    }\n",
    "config"
   ]
  },
  {
   "cell_type": "code",
   "execution_count": 7,
   "id": "65556ea4",
   "metadata": {},
   "outputs": [
    {
     "name": "stderr",
     "output_type": "stream",
     "text": [
      "Failed to detect the name of this notebook, you can set it manually with the WANDB_NOTEBOOK_NAME environment variable to enable code saving.\n",
      "\u001b[34m\u001b[1mwandb\u001b[0m: Currently logged in as: \u001b[33mgarethmd\u001b[0m. Use \u001b[1m`wandb login --relogin`\u001b[0m to force relogin\n"
     ]
    },
    {
     "data": {
      "text/html": [
       "Tracking run with wandb version 0.16.2"
      ],
      "text/plain": [
       "<IPython.core.display.HTML object>"
      ]
     },
     "metadata": {},
     "output_type": "display_data"
    },
    {
     "data": {
      "text/html": [
       "Run data is saved locally in <code>/Users/garethdavies/Development/workspaces/rl/dqn/wandb/run-20240119_212336-2bnqv62z</code>"
      ],
      "text/plain": [
       "<IPython.core.display.HTML object>"
      ]
     },
     "metadata": {},
     "output_type": "display_data"
    },
    {
     "data": {
      "text/html": [
       "Syncing run <strong><a href='https://wandb.ai/garethmd/cartpole/runs/2bnqv62z' target=\"_blank\">dauntless-sea-9</a></strong> to <a href='https://wandb.ai/garethmd/cartpole' target=\"_blank\">Weights & Biases</a> (<a href='https://wandb.me/run' target=\"_blank\">docs</a>)<br/>"
      ],
      "text/plain": [
       "<IPython.core.display.HTML object>"
      ]
     },
     "metadata": {},
     "output_type": "display_data"
    },
    {
     "data": {
      "text/html": [
       " View project at <a href='https://wandb.ai/garethmd/cartpole' target=\"_blank\">https://wandb.ai/garethmd/cartpole</a>"
      ],
      "text/plain": [
       "<IPython.core.display.HTML object>"
      ]
     },
     "metadata": {},
     "output_type": "display_data"
    },
    {
     "data": {
      "text/html": [
       " View run at <a href='https://wandb.ai/garethmd/cartpole/runs/2bnqv62z' target=\"_blank\">https://wandb.ai/garethmd/cartpole/runs/2bnqv62z</a>"
      ],
      "text/plain": [
       "<IPython.core.display.HTML object>"
      ]
     },
     "metadata": {},
     "output_type": "display_data"
    },
    {
     "data": {
      "text/html": [
       "<button onClick=\"this.nextSibling.style.display='block';this.style.display='none';\">Display W&B run</button><iframe src='https://wandb.ai/garethmd/cartpole/runs/2bnqv62z?jupyter=true' style='border:none;width:100%;height:420px;display:none;'></iframe>"
      ],
      "text/plain": [
       "<wandb.sdk.wandb_run.Run at 0x126382b60>"
      ]
     },
     "execution_count": 7,
     "metadata": {},
     "output_type": "execute_result"
    }
   ],
   "source": [
    "wandb.init(\n",
    "    # set the wandb project where this run will be logged\n",
    "    project=\"cartpole\",\n",
    "    \n",
    "    # track hyperparameters and run metadata\n",
    "    config=config\n",
    ")"
   ]
  },
  {
   "cell_type": "code",
   "execution_count": null,
   "id": "fb7660d0",
   "metadata": {},
   "outputs": [],
   "source": []
  }
 ],
 "metadata": {
  "kernelspec": {
   "display_name": "venv",
   "language": "python",
   "name": "python3"
  },
  "language_info": {
   "codemirror_mode": {
    "name": "ipython",
    "version": 3
   },
   "file_extension": ".py",
   "mimetype": "text/x-python",
   "name": "python",
   "nbconvert_exporter": "python",
   "pygments_lexer": "ipython3",
   "version": "3.10.7"
  }
 },
 "nbformat": 4,
 "nbformat_minor": 5
}
