{
 "cells": [
  {
   "cell_type": "code",
   "execution_count": 1,
   "id": "0r-iGVrY_dPh",
   "metadata": {
    "colab": {
     "base_uri": "https://localhost:8080/"
    },
    "execution": {
     "iopub.execute_input": "2024-01-20T22:57:31.834210Z",
     "iopub.status.busy": "2024-01-20T22:57:31.833670Z",
     "iopub.status.idle": "2024-01-20T22:57:38.873441Z",
     "shell.execute_reply": "2024-01-20T22:57:38.872853Z",
     "shell.execute_reply.started": "2024-01-20T22:57:31.834184Z"
    },
    "executionInfo": {
     "elapsed": 18747,
     "status": "ok",
     "timestamp": 1705481744437,
     "user": {
      "displayName": "Gareth Davies",
      "userId": "11833826550098318581"
     },
     "user_tz": 0
    },
    "id": "0r-iGVrY_dPh",
    "outputId": "11308d3e-2a19-4bea-c9e2-c7249b4c4475"
   },
   "outputs": [
    {
     "name": "stdout",
     "output_type": "stream",
     "text": [
      "\n",
      "\u001b[1m[\u001b[0m\u001b[34;49mnotice\u001b[0m\u001b[1;39;49m]\u001b[0m\u001b[39;49m A new release of pip available: \u001b[0m\u001b[31;49m22.2.2\u001b[0m\u001b[39;49m -> \u001b[0m\u001b[32;49m23.3.2\u001b[0m\n",
      "\u001b[1m[\u001b[0m\u001b[34;49mnotice\u001b[0m\u001b[1;39;49m]\u001b[0m\u001b[39;49m To update, run: \u001b[0m\u001b[32;49mpip install --upgrade pip\u001b[0m\n"
     ]
    }
   ],
   "source": [
    "!pip install -r requirements.txt -q"
   ]
  },
  {
   "cell_type": "code",
   "execution_count": 2,
   "id": "376173c5",
   "metadata": {
    "executionInfo": {
     "elapsed": 10879,
     "status": "ok",
     "timestamp": 1705481763504,
     "user": {
      "displayName": "Gareth Davies",
      "userId": "11833826550098318581"
     },
     "user_tz": 0
    },
    "id": "376173c5"
   },
   "outputs": [],
   "source": [
    "import gymnasium as gym\n",
    "import torch\n",
    "import numpy as np\n",
    "import torch.nn as nn\n",
    "import random\n",
    "from collections import deque\n",
    "import matplotlib.pyplot as plt\n",
    "from PIL import Image\n",
    "import torchvision.transforms as transforms\n",
    "import pickle\n",
    "import wandb"
   ]
  },
  {
   "cell_type": "code",
   "execution_count": 3,
   "id": "a0ae1f72",
   "metadata": {
    "executionInfo": {
     "elapsed": 199,
     "status": "ok",
     "timestamp": 1705481771579,
     "user": {
      "displayName": "Gareth Davies",
      "userId": "11833826550098318581"
     },
     "user_tz": 0
    },
    "id": "a0ae1f72"
   },
   "outputs": [],
   "source": [
    "environment = \"ALE/Breakout-v5\"\n",
    "bs = 32\n",
    "replay_memory_size= 400_000 #replay memory max size\n",
    "sync_every_n_steps = 10_000\n",
    "gamma = 0.99\n",
    "lr=0.0000625\n",
    "epsilon = 1\n",
    "final_epsilon = 0.1,\n",
    "loss_fn = nn.SmoothL1Loss()\n",
    "Optimizer = torch.optim.Adam\n",
    "replay_start_size = 50_000\n",
    "FRAMES_TO_TRAIN = 10_000_000\n",
    "EPOCH_SIZE = 50_000\n",
    "BASE_MODEL = None\n",
    "final_exploration_frame = 1_000_000\n",
    "MIN_STACK_SIZE = 4\n",
    "max_grad_norm = 10\n",
    "adam_epsilon = 1.5e-4\n",
    "replay_period = 1"
   ]
  },
  {
   "cell_type": "code",
   "execution_count": 4,
   "id": "7888d948",
   "metadata": {},
   "outputs": [],
   "source": [
    "config = {\n",
    "    \"learning_rate\": lr,\n",
    "    \"architecture\": \"DQN-Deepmind-2015\",\n",
    "    \"environment\": environment,\n",
    "    \"epsilon\": epsilon,\n",
    "    \"final_epsilon\": final_epsilon,\n",
    "    \"gamma\":gamma,\n",
    "    \"bs\":bs,\n",
    "    \"replay_memory_size\":replay_memory_size,\n",
    "    \"sync_every_n_steps\": sync_every_n_steps,\n",
    "    \"loss\": str(loss_fn),\n",
    "    \"Optimizer\": Optimizer.__name__,\n",
    "    \"frames_to_train\": FRAMES_TO_TRAIN,\n",
    "    \"epoch_size\":EPOCH_SIZE,\n",
    "    \"base_model\": BASE_MODEL,\n",
    "    \"final_exploration_frame\":final_exploration_frame,\n",
    "    \"replay_start_size\":replay_start_size,\n",
    "    \"max_grad_norm\":max_grad_norm,\n",
    "    \"adam_epsilon\":adam_epsilon,\n",
    "    \"replay_period\":replay_period\n",
    "    }"
   ]
  },
  {
   "cell_type": "markdown",
   "id": "4d24eb83",
   "metadata": {},
   "source": [
    "Optionally log to wandb"
   ]
  },
  {
   "cell_type": "code",
   "execution_count": 134,
   "id": "1dc4ad55",
   "metadata": {
    "execution": {
     "iopub.execute_input": "2024-01-20T23:00:55.330097Z",
     "iopub.status.busy": "2024-01-20T23:00:55.329165Z",
     "iopub.status.idle": "2024-01-20T23:00:59.771287Z",
     "shell.execute_reply": "2024-01-20T23:00:59.770703Z",
     "shell.execute_reply.started": "2024-01-20T23:00:55.330065Z"
    }
   },
   "outputs": [],
   "source": [
    "#wandb.init(\n",
    "#    project=\"atari\",\n",
    "#    config=config\n",
    "#)"
   ]
  },
  {
   "cell_type": "code",
   "execution_count": 5,
   "id": "a4f900d0",
   "metadata": {
    "colab": {
     "base_uri": "https://localhost:8080/",
     "height": 35
    },
    "executionInfo": {
     "elapsed": 220,
     "status": "ok",
     "timestamp": 1705481765159,
     "user": {
      "displayName": "Gareth Davies",
      "userId": "11833826550098318581"
     },
     "user_tz": 0
    },
    "id": "a4f900d0",
    "outputId": "dd9ec3fb-d6b1-4751-f00f-7ee107ee89fe"
   },
   "outputs": [
    {
     "data": {
      "text/plain": [
       "'cpu'"
      ]
     },
     "execution_count": 5,
     "metadata": {},
     "output_type": "execute_result"
    }
   ],
   "source": [
    "device = 'cuda' if torch.cuda.is_available() else 'cpu'\n",
    "device"
   ]
  },
  {
   "cell_type": "code",
   "execution_count": 115,
   "id": "2ae8f22d",
   "metadata": {
    "executionInfo": {
     "elapsed": 438,
     "status": "ok",
     "timestamp": 1705481767156,
     "user": {
      "displayName": "Gareth Davies",
      "userId": "11833826550098318581"
     },
     "user_tz": 0
    },
    "id": "2ae8f22d"
   },
   "outputs": [],
   "source": [
    "class TorchEnv:\n",
    "    def __init__(self, env: gym.Env, transforms=None, terminate_after_lose_life=True, image_listener=None):\n",
    "        self.env = env\n",
    "        self.n_observations = self.env.observation_space.shape[0]\n",
    "        self.n_actions = self.env.action_space.n\n",
    "        self.transforms = transforms\n",
    "        self.terminate_after_lose_life = terminate_after_lose_life\n",
    "        self.image_listener = image_listener\n",
    "        \n",
    "\n",
    "    def step(self, a):\n",
    "        s, r, terminated, _, info = self.env.step(a)\n",
    "        r = np.clip(r, -1, 1) # clip rewards between -1 and 1 as per DeepMind\n",
    "\n",
    "        if self.image_listener:\n",
    "            self.image_listener(s)\n",
    "\n",
    "        # terminate if we lose a life as per Rainbow\n",
    "        # https://arxiv.org/pdf/1710.02298.pdf\n",
    "        if self.lives != info['lives'] and self.terminate_after_lose_life:\n",
    "            terminated = True\n",
    "        \n",
    "        s = s[None, :, :, :] # HWC -> BCHW\n",
    "        \n",
    "        if self.transforms:\n",
    "            s = self.transforms(s)\n",
    "        return s, r, terminated\n",
    "\n",
    "    def reset(self, *args, **kwargs):\n",
    "        s, info = self.env.reset(*args, **kwargs)\n",
    "        if self.image_listener:\n",
    "            self.image_listener(s)\n",
    "        self.lives = info['lives']\n",
    "    \n",
    "        # at episode start, repeat and stack the first state 4 times\n",
    "        stack = [s]\n",
    "        stack = np.vstack([s[None, :, :, :]] * MIN_STACK_SIZE) # HWC -> BHWC\n",
    "        \n",
    "        if self.transforms:\n",
    "            stack = self.transforms(stack)\n",
    "        \n",
    "        return stack\n",
    "\n",
    "    def close(self):\n",
    "        return self.env.close()\n",
    "    \n",
    "    def sample(self):\n",
    "        return np.random.randint(self.n_actions)"
   ]
  },
  {
   "cell_type": "markdown",
   "id": "b3b7d9f1",
   "metadata": {
    "id": "b3b7d9f1"
   },
   "source": [
    "### Preprocessing"
   ]
  },
  {
   "cell_type": "code",
   "execution_count": 116,
   "id": "23fe59a4",
   "metadata": {},
   "outputs": [
    {
     "data": {
      "text/plain": [
       "<matplotlib.image.AxesImage at 0x132570250>"
      ]
     },
     "execution_count": 116,
     "metadata": {},
     "output_type": "execute_result"
    },
    {
     "data": {
      "image/png": "[encoded data removed]",
      "text/plain": [
       "<Figure size 640x480 with 1 Axes>"
      ]
     },
     "metadata": {},
     "output_type": "display_data"
    }
   ],
   "source": [
    "env = TorchEnv(gym.make(environment))\n",
    "stack = env.reset() \n",
    "for _ in range(10):\n",
    "    stack, *_ = env.step(env.sample())\n",
    "plt.imshow(stack[-1])"
   ]
  },
  {
   "cell_type": "markdown",
   "id": "d079db6b",
   "metadata": {},
   "source": [
    "#### Greyscale"
   ]
  },
  {
   "cell_type": "code",
   "execution_count": 43,
   "id": "c01eb3a6",
   "metadata": {},
   "outputs": [],
   "source": [
    "class BatchGrayscale:\n",
    "    def __init__(self):\n",
    "        self.transforms = transforms.Grayscale()\n",
    "\n",
    "    def __call__(self, batch: torch.Tensor):\n",
    "        \"\"\"\n",
    "        Args:\n",
    "            batch (torch.Tensor): expects batch to be of shape (B, H, W, C)\n",
    "        Returns:\n",
    "            torch.Tensor: batch of shape (B, C, H, W)\n",
    "        \"\"\"\n",
    "        grey_pt_stack = torch.stack([self.transforms(s.permute(2,0,1)) for s in batch])\n",
    "        return grey_pt_stack"
   ]
  },
  {
   "cell_type": "code",
   "execution_count": 117,
   "id": "f194f339",
   "metadata": {},
   "outputs": [],
   "source": [
    "def imglistshow(v_slice):\n",
    "    plt.figure()\n",
    "    #subplot(r,c) provide the no. of rows and columns\n",
    "    f, axarr = plt.subplots(nrows=1, ncols=4)\n",
    "    \n",
    "    # use the created array to output your multiple images. In this case I have stacked 4 images vertically\n",
    "    for i, image in enumerate(v_slice):\n",
    "        axarr[i].axis(\"off\")\n",
    "        axarr[i].imshow(image)"
   ]
  },
  {
   "cell_type": "code",
   "execution_count": 119,
   "id": "152a968b",
   "metadata": {},
   "outputs": [
    {
     "data": {
      "text/plain": [
       "<matplotlib.image.AxesImage at 0x1342e7580>"
      ]
     },
     "execution_count": 119,
     "metadata": {},
     "output_type": "execute_result"
    },
    {
     "data": {
      "image/png": "[encoded data removed]",
      "text/plain": [
       "<Figure size 640x480 with 1 Axes>"
      ]
     },
     "metadata": {},
     "output_type": "display_data"
    }
   ],
   "source": [
    "greyscale = BatchGrayscale() #transforms to grayscale\n",
    "pt_stack = torch.from_numpy(stack).to(device)\n",
    "img_stack = greyscale(pt_stack)\n",
    "plt.imshow(img_stack.squeeze(1).permute(1, 2, 0))"
   ]
  },
  {
   "cell_type": "code",
   "execution_count": 120,
   "id": "557d7090",
   "metadata": {},
   "outputs": [],
   "source": [
    "class BatchDownsample:\n",
    "    def __init__(self, size=(110,84)):\n",
    "        self.size = size\n",
    "    \n",
    "    def __call__(self, batch: torch.Tensor):\n",
    "        \"\"\"\n",
    "        Args:\n",
    "            batch (torch.Tensor): expects batch to be of shape (B, C, H, W)\n",
    "        Returns:\n",
    "            torch.Tensor: batch of shape (B, C, H, W)\n",
    "        \"\"\"\n",
    "        orig_dtype = batch.dtype\n",
    "        result = nn.functional.interpolate(batch.float(), size=self.size,  mode='bilinear')\n",
    "        return result.type(orig_dtype)"
   ]
  },
  {
   "cell_type": "code",
   "execution_count": 121,
   "id": "3659ff7a",
   "metadata": {},
   "outputs": [
    {
     "data": {
      "text/plain": [
       "<matplotlib.image.AxesImage at 0x13445bb80>"
      ]
     },
     "execution_count": 121,
     "metadata": {},
     "output_type": "execute_result"
    },
    {
     "data": {
      "image/png": "[encoded data removed]",
      "text/plain": [
       "<Figure size 640x480 with 1 Axes>"
      ]
     },
     "metadata": {},
     "output_type": "display_data"
    }
   ],
   "source": [
    "batch_downsample = BatchDownsample(size=(110,84))\n",
    "downsampled_stack = batch_downsample(img_stack)\n",
    "plt.imshow(downsampled_stack.squeeze(1).permute(1, 2, 0))"
   ]
  },
  {
   "cell_type": "code",
   "execution_count": 122,
   "id": "1dc85b67",
   "metadata": {},
   "outputs": [],
   "source": [
    "class BatchCrop:\n",
    "    def __init__(self, size=(84,84)):\n",
    "        self.size = size\n",
    "    \n",
    "    def __call__(self, batch: torch.Tensor):\n",
    "        \"\"\" crop 17 pixels from top and bottom\n",
    "        Args:\n",
    "            batch (torch.Tensor): expects batch to be of shape (B, C, H, W)\n",
    "        Returns:\n",
    "            torch.Tensor: batch of shape (B, C, H, W)\n",
    "        \"\"\"\n",
    "        return batch[:, :,  17:17+self.size[0], :] # crop 17 pixels from top and bottom"
   ]
  },
  {
   "cell_type": "code",
   "execution_count": 123,
   "id": "7fb34dae",
   "metadata": {},
   "outputs": [
    {
     "data": {
      "text/plain": [
       "<matplotlib.image.AxesImage at 0x134e3ed10>"
      ]
     },
     "execution_count": 123,
     "metadata": {},
     "output_type": "execute_result"
    },
    {
     "data": {
      "image/png": "[encoded data removed]",
      "text/plain": [
       "<Figure size 640x480 with 1 Axes>"
      ]
     },
     "metadata": {},
     "output_type": "display_data"
    }
   ],
   "source": [
    "batch_downsample = BatchCrop(size=(84,84))\n",
    "batch_downsample = batch_downsample(downsampled_stack)\n",
    "plt.imshow(batch_downsample.squeeze(1).permute(1, 2, 0))"
   ]
  },
  {
   "cell_type": "code",
   "execution_count": 124,
   "id": "084ae4b7",
   "metadata": {},
   "outputs": [],
   "source": [
    "class BatchToTensor:\n",
    "    def __init__(self, device):\n",
    "        self.device = device\n",
    "\n",
    "    def __call__(self, batch: np.array):\n",
    "        \"\"\"\n",
    "        Args:\n",
    "            batch (np.array): expects a numpy array\n",
    "        Returns:\n",
    "            torch.Tensor: torch tensor on device\n",
    "        \"\"\"\n",
    "        return torch.from_numpy(batch).to(self.device)"
   ]
  },
  {
   "cell_type": "code",
   "execution_count": 125,
   "id": "e0eb71d3",
   "metadata": {},
   "outputs": [],
   "source": [
    "class TransformPipeline:\n",
    "    def __init__(self, transforms):\n",
    "        self.transforms = transforms\n",
    "    \n",
    "    def __call__(self, batch: torch.Tensor):\n",
    "        for transform in self.transforms:\n",
    "            batch = transform(batch)\n",
    "        return batch"
   ]
  },
  {
   "cell_type": "code",
   "execution_count": 126,
   "id": "33e8702b",
   "metadata": {},
   "outputs": [],
   "source": [
    "pipeline = TransformPipeline([BatchToTensor(device), BatchGrayscale(), BatchDownsample(), BatchCrop()])"
   ]
  },
  {
   "cell_type": "markdown",
   "id": "083ac764",
   "metadata": {
    "id": "083ac764"
   },
   "source": [
    "## Experience Replay\n",
    "here we fill the replay memory with downsampled cropped stacks"
   ]
  },
  {
   "cell_type": "code",
   "execution_count": 77,
   "id": "9eac8602",
   "metadata": {
    "executionInfo": {
     "elapsed": 2,
     "status": "ok",
     "timestamp": 1705481796263,
     "user": {
      "displayName": "Gareth Davies",
      "userId": "11833826550098318581"
     },
     "user_tz": 0
    },
    "id": "9eac8602"
   },
   "outputs": [],
   "source": [
    "class ExperienceReplay:\n",
    "    def __init__(self, maxlen: int) -> None:\n",
    "        self.deque = deque(maxlen=maxlen)\n",
    "        self.maxlen = maxlen\n",
    "\n",
    "    def append(self, x: tuple)-> None:\n",
    "        self.deque.append(x)\n",
    "\n",
    "    def sample(self, bs: int) -> list:\n",
    "        return random.sample(self.deque, min(len(self), bs))\n",
    "\n",
    "    def __len__(self) -> int:\n",
    "        return len(self.deque)\n",
    "    \n",
    "    @classmethod\n",
    "    def load(cls, path: str):\n",
    "        with open(path, 'rb') as f:\n",
    "            return pickle.load(f)\n",
    "        \n",
    "    def save(self, path: str):\n",
    "        with open(path, 'wb') as f:\n",
    "            return pickle.dump(self, f)\n",
    "\n",
    "def fill(replay_memory:ExperienceReplay, env:TorchEnv, fill_size:int = replay_start_size) -> None :\n",
    "    while len(replay_memory)<fill_size:\n",
    "        s = env.reset()\n",
    "        terminated=False\n",
    "        while terminated == False and len(replay_memory)<fill_size:\n",
    "            a = env.sample()\n",
    "            s_prime, r, terminated = env.step(a)\n",
    "            s_prime = torch.cat([s, s_prime])[-4:]\n",
    "            replay_memory.append((s, a, r, s_prime, terminated))\n",
    "            s = s_prime"
   ]
  },
  {
   "cell_type": "code",
   "execution_count": 127,
   "id": "5d0c4934",
   "metadata": {},
   "outputs": [
    {
     "data": {
      "text/plain": [
       "torch.Size([4, 1, 84, 84])"
      ]
     },
     "execution_count": 127,
     "metadata": {},
     "output_type": "execute_result"
    }
   ],
   "source": [
    "env = TorchEnv(gym.make(environment), transforms=pipeline)\n",
    "replay_memory = ExperienceReplay(replay_memory_size)\n",
    "fill(replay_memory, env, fill_size=100)\n",
    "samples = replay_memory.sample(3)\n",
    "s, a, r, s_prime, terminated = samples[0]\n",
    "s.shape"
   ]
  },
  {
   "cell_type": "code",
   "execution_count": 97,
   "id": "bbcdfc51",
   "metadata": {
    "colab": {
     "base_uri": "https://localhost:8080/",
     "height": 451
    },
    "executionInfo": {
     "elapsed": 423,
     "status": "ok",
     "timestamp": 1705481800746,
     "user": {
      "displayName": "Gareth Davies",
      "userId": "11833826550098318581"
     },
     "user_tz": 0
    },
    "id": "bbcdfc51",
    "outputId": "89ee91f7-27f6-49a5-9c7f-0108126bcb68"
   },
   "outputs": [
    {
     "data": {
      "text/plain": [
       "<Figure size 640x480 with 0 Axes>"
      ]
     },
     "metadata": {},
     "output_type": "display_data"
    },
    {
     "data": {
      "image/png": "[encoded data removed]",
      "text/plain": [
       "<Figure size 640x480 with 4 Axes>"
      ]
     },
     "metadata": {},
     "output_type": "display_data"
    }
   ],
   "source": [
    "imglistshow(s.squeeze(1).cpu())"
   ]
  },
  {
   "cell_type": "markdown",
   "id": "bee5f456",
   "metadata": {
    "id": "bee5f456"
   },
   "source": [
    "## Define the Atari DQN"
   ]
  },
  {
   "cell_type": "code",
   "execution_count": 128,
   "id": "e03eb896",
   "metadata": {},
   "outputs": [],
   "source": [
    "class DQNDeepmind2013(nn.Module):\n",
    "    def __init__(self, n_actions):\n",
    "        super(DQNDeepmind2013, self).__init__()\n",
    "        self.conv = nn.Sequential(\n",
    "            nn.Conv2d(4, 16, 8, stride=4),\n",
    "            nn.ReLU(),\n",
    "            nn.Conv2d(16, 32, 4, stride=2),\n",
    "            nn.ReLU(),\n",
    "            nn.Flatten(),\n",
    "            nn.Linear(32*9*9, 256),\n",
    "            nn.ReLU(),\n",
    "            nn.Linear(256, n_actions)\n",
    "        )\n",
    "        \n",
    "    def forward(self, s):\n",
    "        return self.conv(s) "
   ]
  },
  {
   "cell_type": "code",
   "execution_count": 129,
   "id": "ad53db6c",
   "metadata": {
    "executionInfo": {
     "elapsed": 207,
     "status": "ok",
     "timestamp": 1705481813206,
     "user": {
      "displayName": "Gareth Davies",
      "userId": "11833826550098318581"
     },
     "user_tz": 0
    },
    "id": "ad53db6c"
   },
   "outputs": [],
   "source": [
    "class AtariDQN(nn.Module):\n",
    "    def __init__(self, net, n_actions, normalize=True):\n",
    "        super(AtariDQN, self).__init__()\n",
    "        self.net = net\n",
    "        self.n_actions = n_actions\n",
    "        self.normalize = normalize\n",
    "\n",
    "    def forward(self, s: torch.Tensor):\n",
    "        '''\n",
    "        Args:\n",
    "            s (torch.Tensor): batch of shape (B, H, W)\n",
    "        Returns:\n",
    "            torch.Tensor: batch of shape (B, n_actions)\n",
    "        '''\n",
    "        if self.normalize:\n",
    "            s = s.float() / 255.0\n",
    "        return self.net(s)\n",
    "\n",
    "    def select_next_action(self, s, epsilon):\n",
    "        with torch.no_grad():\n",
    "            use_greedy = np.random.binomial(1, 1-epsilon)\n",
    "            if use_greedy:\n",
    "                a = self(s).argmax().item()\n",
    "            else:\n",
    "                a = np.random.randint(self.n_actions)\n",
    "            return a"
   ]
  },
  {
   "cell_type": "markdown",
   "id": "829732d1",
   "metadata": {
    "id": "829732d1"
   },
   "source": [
    "# Train Network"
   ]
  },
  {
   "cell_type": "code",
   "execution_count": 131,
   "id": "7298055d",
   "metadata": {
    "execution": {
     "iopub.execute_input": "2024-01-20T09:57:38.319912Z",
     "iopub.status.busy": "2024-01-20T09:57:38.319145Z",
     "iopub.status.idle": "2024-01-20T09:57:38.343313Z",
     "shell.execute_reply": "2024-01-20T09:57:38.342791Z",
     "shell.execute_reply.started": "2024-01-20T09:57:38.319886Z"
    },
    "executionInfo": {
     "elapsed": 211,
     "status": "ok",
     "timestamp": 1705481815123,
     "user": {
      "displayName": "Gareth Davies",
      "userId": "11833826550098318581"
     },
     "user_tz": 0
    },
    "id": "7298055d"
   },
   "outputs": [],
   "source": [
    "dqn = AtariDQN(DQNDeepmind2013(env.n_actions).to(device), n_actions=env.n_actions).to(device)\n",
    "if BASE_MODEL is not None:\n",
    "    print(f\"Loading base model from {BASE_MODEL}\")\n",
    "    dqn.load_state_dict(torch.load(BASE_MODEL))"
   ]
  },
  {
   "cell_type": "code",
   "execution_count": 132,
   "id": "85da894e",
   "metadata": {
    "execution": {
     "iopub.execute_input": "2024-01-20T09:58:31.955949Z",
     "iopub.status.busy": "2024-01-20T09:58:31.955285Z",
     "iopub.status.idle": "2024-01-20T09:58:31.960596Z",
     "shell.execute_reply": "2024-01-20T09:58:31.960147Z",
     "shell.execute_reply.started": "2024-01-20T09:58:31.955918Z"
    },
    "executionInfo": {
     "elapsed": 195,
     "status": "ok",
     "timestamp": 1705481860023,
     "user": {
      "displayName": "Gareth Davies",
      "userId": "11833826550098318581"
     },
     "user_tz": 0
    },
    "id": "85da894e"
   },
   "outputs": [],
   "source": [
    "def atari_collate(batch):\n",
    "    s_j, a_j, r_j, s_prime_j, terminated_j = list(zip(*batch))\n",
    "    return (torch.stack(s_j).squeeze(2).to(device), \n",
    "            torch.tensor(a_j).to(device), \n",
    "            torch.tensor(r_j).to(device), \n",
    "            torch.stack(s_prime_j).squeeze(2).to(device), \n",
    "            (~torch.tensor(terminated_j)).to(device).half()\n",
    "    )\n",
    "def get_batch_efficient(self, batch, collate_fn=None):\n",
    "    s, a, r, s_prime, not_terminated = collate_fn(batch)\n",
    "\n",
    "    y_hat = self(s).gather(1, a.unsqueeze(1)).squeeze() # gather the values at the indices given by the actions a\n",
    "\n",
    "    with torch.no_grad():\n",
    "        next_values, _ = self(s_prime).max(dim=1)\n",
    "        next_values = next_values.clone().detach()\n",
    "    \n",
    "    #Bellman equation... our target\n",
    "    y_j = r.detach().clone() + gamma * next_values * not_terminated # if terminated then not_terminated is set to zero (y_j = r)\n",
    "    return y_hat, y_j\n",
    "\n",
    "def get_epsilon(epsilon, final_epsilon=0.1, steps_to_anneal=final_exploration_frame):\n",
    "    if epsilon > final_epsilon:\n",
    "        epsilon -= (1/steps_to_anneal) * (1-final_epsilon)\n",
    "    return epsilon"
   ]
  },
  {
   "cell_type": "code",
   "execution_count": 133,
   "id": "46a0f0ea",
   "metadata": {},
   "outputs": [
    {
     "data": {
      "text/plain": [
       "0.05389221556886228"
      ]
     },
     "execution_count": 133,
     "metadata": {},
     "output_type": "execute_result"
    }
   ],
   "source": [
    "def validate(dqn, env):\n",
    "    k = 0\n",
    "    total_rewards = []\n",
    "    while k < 15*60*5: #15 frames / sec * 60 seconds * 5 minutes\n",
    "        terminated = False\n",
    "        rewards = 0\n",
    "        s = env.reset()\n",
    "        while terminated == False:\n",
    "            a = dqn.select_next_action(s.squeeze(1).unsqueeze(0), 0.1)\n",
    "            s_prime, r, terminated = env.step(a)\n",
    "            s_prime = torch.cat([s, s_prime])[-4:]\n",
    "            s = s_prime\n",
    "            rewards += r\n",
    "            k += 1\n",
    "        total_rewards.append(rewards)\n",
    "    return sum(total_rewards)/len(total_rewards)\n",
    "\n",
    "validate(dqn, env)"
   ]
  },
  {
   "cell_type": "code",
   "execution_count": null,
   "id": "0c367002",
   "metadata": {
    "colab": {
     "base_uri": "https://localhost:8080/"
    },
    "execution": {
     "iopub.execute_input": "2024-01-20T09:58:34.394285Z",
     "iopub.status.busy": "2024-01-20T09:58:34.393473Z",
     "iopub.status.idle": "2024-01-20T09:58:34.398973Z",
     "shell.execute_reply": "2024-01-20T09:58:34.398239Z",
     "shell.execute_reply.started": "2024-01-20T09:58:34.394248Z"
    },
    "executionInfo": {
     "elapsed": 3,
     "status": "ok",
     "timestamp": 1705481873718,
     "user": {
      "displayName": "Gareth Davies",
      "userId": "11833826550098318581"
     },
     "user_tz": 0
    },
    "id": "0c367002",
    "outputId": "39c78315-d9ae-4f54-fc36-1cb33346a2e5"
   },
   "outputs": [],
   "source": [
    "optimizer = Optimizer(dqn.parameters(),  lr=lr, eps=adam_epsilon)\n",
    "dqn.train()\n",
    "n_epochs = FRAMES_TO_TRAIN // EPOCH_SIZE\n",
    "print(n_epochs)\n",
    "track = True\n",
    "for epoch in range(n_epochs):\n",
    "    epoch_loss, epoch_reward, k, epoch_episodes = 0, 0, 0, 0\n",
    "    while k < EPOCH_SIZE:\n",
    "        terminated = False\n",
    "        s = env.reset()\n",
    "        while terminated == False:\n",
    "            a = dqn.select_next_action(s.squeeze(1).unsqueeze(0), epsilon)\n",
    "            s_prime, r, terminated = env.step(a)\n",
    "            s_prime = torch.cat([s, s_prime])[-4:]\n",
    "            replay_memory.append((s, a, r, s_prime, terminated))\n",
    "            epsilon = get_epsilon(epsilon)\n",
    "            s = s_prime\n",
    "\n",
    "            if len(replay_memory) > replay_start_size:\n",
    "                optimizer.zero_grad()\n",
    "                batch = replay_memory.sample(bs)\n",
    "                y_hat, y = get_batch_efficient(dqn, batch,  collate_fn=atari_collate)\n",
    "                loss = loss_fn(y_hat, y)\n",
    "                loss.backward()\n",
    "                torch.nn.utils.clip_grad_value_(dqn.parameters(), max_grad_norm)\n",
    "                optimizer.step()\n",
    "                        \n",
    "                \n",
    "                loss = loss.detach()\n",
    "                epoch_loss += loss.item()\n",
    "            epoch_reward += r\n",
    "            k += 1\n",
    "        epoch_episodes += 1\n",
    "    \n",
    "    if track:\n",
    "        validate_reward = validate(dqn, env)\n",
    "        torch.save(dqn.state_dict(), 'breakout2013.pt')\n",
    "        #wandb.log_model(name=f\"breakout2013-{wandb.run.id}\", path='breakout2013.pt')\n",
    "        #wandb.log({\"epoch\":epoch,\n",
    "        #        \"step_loss\": epoch_loss / k, \n",
    "        #        \"reward\": epoch_reward / epoch_episodes,\n",
    "        #        \"step\":k,\n",
    "        #        \"epsilon\": epsilon,\n",
    "        #        \"validate_reward\":validate_reward\n",
    "        #        })\n",
    "        print(f'epochs {epoch}, step_loss {epoch_loss / k}, reward {epoch_reward / epoch_episodes}, validate_reward {validate_reward}, k {k}, epsilon {epsilon}')\n",
    "env.close()"
   ]
  },
  {
   "cell_type": "code",
   "execution_count": 135,
   "id": "2e7b660f",
   "metadata": {},
   "outputs": [],
   "source": [
    "# wandb.finish()"
   ]
  },
  {
   "cell_type": "markdown",
   "metadata": {},
   "source": [
    "### Validation"
   ]
  },
  {
   "cell_type": "code",
   "execution_count": 111,
   "metadata": {},
   "outputs": [],
   "source": [
    "class ImageListener:\n",
    "    '''Simple callback like class to collact images during the our simulation\n",
    "    '''\n",
    "    def __init__(self):\n",
    "        self.images = []\n",
    "\n",
    "    def __call__(self, img):\n",
    "        self.images.append(img)\n",
    "\n",
    "image_listener = ImageListener()"
   ]
  },
  {
   "cell_type": "code",
   "execution_count": 112,
   "id": "58c7ea61-6e62-4d27-b7ba-22b0546da653",
   "metadata": {},
   "outputs": [
    {
     "data": {
      "text/plain": [
       "<All keys matched successfully>"
      ]
     },
     "execution_count": 112,
     "metadata": {},
     "output_type": "execute_result"
    }
   ],
   "source": [
    "MODEL_FILE_PATH = 'breakout-2013.pt'\n",
    "env = TorchEnv(gym.make(environment), transforms=pipeline, terminate_after_lose_life=False, image_listener=image_listener)\n",
    "dqn = AtariDQN(DQNDeepmind2013(env.n_actions).to(device), n_actions=env.n_actions).to(device)\n",
    "dqn.load_state_dict(torch.load(MODEL_FILE_PATH, map_location=torch.device('cpu')))\n"
   ]
  },
  {
   "cell_type": "code",
   "execution_count": 113,
   "metadata": {},
   "outputs": [
    {
     "data": {
      "text/plain": [
       "12.0"
      ]
     },
     "execution_count": 113,
     "metadata": {},
     "output_type": "execute_result"
    }
   ],
   "source": [
    "\n",
    "def validate(dqn, env):\n",
    "    k = 0\n",
    "    total_rewards = []\n",
    "    while k < 15*60*5: #15 frames / sec * 60 seconds * 5 minutes\n",
    "        terminated = False\n",
    "        rewards = 0\n",
    "        s = env.reset()\n",
    "        while terminated == False:\n",
    "            a = dqn.select_next_action(s.squeeze(1).unsqueeze(0), 0.05)\n",
    "            s_prime, r, terminated = env.step(a)\n",
    "            s_prime = torch.cat([s, s_prime])[-4:]\n",
    "            s = s_prime\n",
    "            rewards += r\n",
    "            k += 1\n",
    "        total_rewards.append(rewards)\n",
    "    return sum(total_rewards)/len(total_rewards)\n",
    "\n",
    "validate(dqn, env)"
   ]
  },
  {
   "cell_type": "markdown",
   "id": "30963d89",
   "metadata": {},
   "source": [
    "### Create a video of the agent playing"
   ]
  },
  {
   "cell_type": "code",
   "execution_count": 109,
   "metadata": {},
   "outputs": [],
   "source": [
    "from video import WRITERS"
   ]
  },
  {
   "cell_type": "code",
   "execution_count": 114,
   "id": "96409362-4fbc-48fc-9a16-07322ea6eb9d",
   "metadata": {},
   "outputs": [
    {
     "name": "stderr",
     "output_type": "stream",
     "text": [
      "OpenCV: FFMPEG: tag 0x5634504d/'MP4V' is not supported with codec id 12 and format 'mp4 / MP4 (MPEG-4 Part 14)'\n",
      "OpenCV: FFMPEG: fallback to use tag 0x7634706d/'mp4v'\n"
     ]
    }
   ],
   "source": [
    "WRITERS[\"opencv\"](iter(image_listener.images), f\"{MODEL_FILE_PATH}.mp4\")"
   ]
  }
 ],
 "metadata": {
  "accelerator": "GPU",
  "colab": {
   "gpuType": "T4",
   "provenance": []
  },
  "kernelspec": {
   "display_name": "Python 3 (ipykernel)",
   "language": "python",
   "name": "python3"
  },
  "language_info": {
   "codemirror_mode": {
    "name": "ipython",
    "version": 3
   },
   "file_extension": ".py",
   "mimetype": "text/x-python",
   "name": "python",
   "nbconvert_exporter": "python",
   "pygments_lexer": "ipython3",
   "version": "3.10.7"
  }
 },
 "nbformat": 4,
 "nbformat_minor": 5
}
