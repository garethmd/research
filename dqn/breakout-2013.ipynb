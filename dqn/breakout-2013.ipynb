{
 "cells": [
  {
   "cell_type": "code",
   "execution_count": 1,
   "id": "0r-iGVrY_dPh",
   "metadata": {
    "colab": {
     "base_uri": "https://localhost:8080/"
    },
    "execution": {
     "iopub.execute_input": "2024-01-20T22:57:31.834210Z",
     "iopub.status.busy": "2024-01-20T22:57:31.833670Z",
     "iopub.status.idle": "2024-01-20T22:57:38.873441Z",
     "shell.execute_reply": "2024-01-20T22:57:38.872853Z",
     "shell.execute_reply.started": "2024-01-20T22:57:31.834184Z"
    },
    "executionInfo": {
     "elapsed": 18747,
     "status": "ok",
     "timestamp": 1705481744437,
     "user": {
      "displayName": "Gareth Davies",
      "userId": "11833826550098318581"
     },
     "user_tz": 0
    },
    "id": "0r-iGVrY_dPh",
    "outputId": "11308d3e-2a19-4bea-c9e2-c7249b4c4475"
   },
   "outputs": [
    {
     "name": "stdout",
     "output_type": "stream",
     "text": [
      "\n",
      "\u001b[1m[\u001b[0m\u001b[34;49mnotice\u001b[0m\u001b[1;39;49m]\u001b[0m\u001b[39;49m A new release of pip available: \u001b[0m\u001b[31;49m22.2.2\u001b[0m\u001b[39;49m -> \u001b[0m\u001b[32;49m23.3.2\u001b[0m\n",
      "\u001b[1m[\u001b[0m\u001b[34;49mnotice\u001b[0m\u001b[1;39;49m]\u001b[0m\u001b[39;49m To update, run: \u001b[0m\u001b[32;49mpip install --upgrade pip\u001b[0m\n"
     ]
    }
   ],
   "source": [
    "!pip install -r requirements.txt -q"
   ]
  },
  {
   "cell_type": "code",
   "execution_count": 2,
   "id": "376173c5",
   "metadata": {
    "executionInfo": {
     "elapsed": 10879,
     "status": "ok",
     "timestamp": 1705481763504,
     "user": {
      "displayName": "Gareth Davies",
      "userId": "11833826550098318581"
     },
     "user_tz": 0
    },
    "id": "376173c5"
   },
   "outputs": [],
   "source": [
    "import gymnasium as gym\n",
    "import torch\n",
    "import numpy as np\n",
    "import torch.nn as nn\n",
    "import random\n",
    "from collections import deque\n",
    "import matplotlib.pyplot as plt\n",
    "from PIL import Image\n",
    "import torchvision.transforms as transforms\n",
    "import pickle\n",
    "import wandb"
   ]
  },
  {
   "cell_type": "code",
   "execution_count": 3,
   "id": "a0ae1f72",
   "metadata": {
    "executionInfo": {
     "elapsed": 199,
     "status": "ok",
     "timestamp": 1705481771579,
     "user": {
      "displayName": "Gareth Davies",
      "userId": "11833826550098318581"
     },
     "user_tz": 0
    },
    "id": "a0ae1f72"
   },
   "outputs": [],
   "source": [
    "environment = \"ALE/Breakout-v5\"\n",
    "bs = 32\n",
    "replay_memory_size= 400_000 #replay memory max size\n",
    "sync_every_n_steps = 10_000\n",
    "gamma = 0.99\n",
    "lr=0.0000625\n",
    "epsilon = 1\n",
    "final_epsilon = 0.1,\n",
    "loss_fn = nn.SmoothL1Loss()\n",
    "Optimizer = torch.optim.Adam\n",
    "replay_start_size = 50_000\n",
    "FRAMES_TO_TRAIN = 10_000_000\n",
    "EPOCH_SIZE = 50_000\n",
    "BASE_MODEL = None\n",
    "final_exploration_frame = 1_000_000\n",
    "MIN_STACK_SIZE = 4\n",
    "max_grad_norm = 10\n",
    "adam_epsilon = 1.5e-4\n",
    "replay_period = 1"
   ]
  },
  {
   "cell_type": "code",
   "execution_count": 4,
   "id": "7888d948",
   "metadata": {},
   "outputs": [],
   "source": [
    "config = {\n",
    "    \"learning_rate\": lr,\n",
    "    \"architecture\": \"DQN-Deepmind-2015\",\n",
    "    \"environment\": environment,\n",
    "    \"epsilon\": epsilon,\n",
    "    \"final_epsilon\": final_epsilon,\n",
    "    \"gamma\":gamma,\n",
    "    \"bs\":bs,\n",
    "    \"replay_memory_size\":replay_memory_size,\n",
    "    \"sync_every_n_steps\": sync_every_n_steps,\n",
    "    \"loss\": str(loss_fn),\n",
    "    \"Optimizer\": Optimizer.__name__,\n",
    "    \"frames_to_train\": FRAMES_TO_TRAIN,\n",
    "    \"epoch_size\":EPOCH_SIZE,\n",
    "    \"base_model\": BASE_MODEL,\n",
    "    \"final_exploration_frame\":final_exploration_frame,\n",
    "    \"replay_start_size\":replay_start_size,\n",
    "    \"max_grad_norm\":max_grad_norm,\n",
    "    \"adam_epsilon\":adam_epsilon,\n",
    "    \"replay_period\":replay_period\n",
    "    }"
   ]
  },
  {
   "cell_type": "code",
   "execution_count": 6,
   "id": "1dc4ad55",
   "metadata": {
    "execution": {
     "iopub.execute_input": "2024-01-20T23:00:55.330097Z",
     "iopub.status.busy": "2024-01-20T23:00:55.329165Z",
     "iopub.status.idle": "2024-01-20T23:00:59.771287Z",
     "shell.execute_reply": "2024-01-20T23:00:59.770703Z",
     "shell.execute_reply.started": "2024-01-20T23:00:55.330065Z"
    }
   },
   "outputs": [
    {
     "name": "stderr",
     "output_type": "stream",
     "text": [
      "Failed to detect the name of this notebook, you can set it manually with the WANDB_NOTEBOOK_NAME environment variable to enable code saving.\n",
      "\u001b[34m\u001b[1mwandb\u001b[0m: Currently logged in as: \u001b[33mgarethmd\u001b[0m. Use \u001b[1m`wandb login --relogin`\u001b[0m to force relogin\n"
     ]
    },
    {
     "data": {
      "text/html": [
       "Tracking run with wandb version 0.16.2"
      ],
      "text/plain": [
       "<IPython.core.display.HTML object>"
      ]
     },
     "metadata": {},
     "output_type": "display_data"
    },
    {
     "data": {
      "text/html": [
       "Run data is saved locally in <code>/Users/garethdavies/Development/workspaces/rl/dqn/wandb/run-20240128_202630-w4qqwc0o</code>"
      ],
      "text/plain": [
       "<IPython.core.display.HTML object>"
      ]
     },
     "metadata": {},
     "output_type": "display_data"
    },
    {
     "data": {
      "text/html": [
       "Syncing run <strong><a href='https://wandb.ai/garethmd/atari/runs/w4qqwc0o' target=\"_blank\">deep-moon-71</a></strong> to <a href='https://wandb.ai/garethmd/atari' target=\"_blank\">Weights & Biases</a> (<a href='https://wandb.me/run' target=\"_blank\">docs</a>)<br/>"
      ],
      "text/plain": [
       "<IPython.core.display.HTML object>"
      ]
     },
     "metadata": {},
     "output_type": "display_data"
    },
    {
     "data": {
      "text/html": [
       " View project at <a href='https://wandb.ai/garethmd/atari' target=\"_blank\">https://wandb.ai/garethmd/atari</a>"
      ],
      "text/plain": [
       "<IPython.core.display.HTML object>"
      ]
     },
     "metadata": {},
     "output_type": "display_data"
    },
    {
     "data": {
      "text/html": [
       " View run at <a href='https://wandb.ai/garethmd/atari/runs/w4qqwc0o' target=\"_blank\">https://wandb.ai/garethmd/atari/runs/w4qqwc0o</a>"
      ],
      "text/plain": [
       "<IPython.core.display.HTML object>"
      ]
     },
     "metadata": {},
     "output_type": "display_data"
    },
    {
     "data": {
      "text/html": [
       "<button onClick=\"this.nextSibling.style.display='block';this.style.display='none';\">Display W&B run</button><iframe src='https://wandb.ai/garethmd/atari/runs/w4qqwc0o?jupyter=true' style='border:none;width:100%;height:420px;display:none;'></iframe>"
      ],
      "text/plain": [
       "<wandb.sdk.wandb_run.Run at 0x13ac4a680>"
      ]
     },
     "execution_count": 6,
     "metadata": {},
     "output_type": "execute_result"
    }
   ],
   "source": [
    "wandb.init(\n",
    "    # set the wandb project where this run will be logged\n",
    "    project=\"atari\",\n",
    "    \n",
    "    # track hyperparameters and run metadata\n",
    "    config=config\n",
    ")"
   ]
  },
  {
   "cell_type": "code",
   "execution_count": 5,
   "id": "a4f900d0",
   "metadata": {
    "colab": {
     "base_uri": "https://localhost:8080/",
     "height": 35
    },
    "executionInfo": {
     "elapsed": 220,
     "status": "ok",
     "timestamp": 1705481765159,
     "user": {
      "displayName": "Gareth Davies",
      "userId": "11833826550098318581"
     },
     "user_tz": 0
    },
    "id": "a4f900d0",
    "outputId": "dd9ec3fb-d6b1-4751-f00f-7ee107ee89fe"
   },
   "outputs": [
    {
     "data": {
      "text/plain": [
       "'cpu'"
      ]
     },
     "execution_count": 5,
     "metadata": {},
     "output_type": "execute_result"
    }
   ],
   "source": [
    "device = 'cuda' if torch.cuda.is_available() else 'cpu'\n",
    "device"
   ]
  },
  {
   "cell_type": "code",
   "execution_count": 27,
   "id": "2ae8f22d",
   "metadata": {
    "executionInfo": {
     "elapsed": 438,
     "status": "ok",
     "timestamp": 1705481767156,
     "user": {
      "displayName": "Gareth Davies",
      "userId": "11833826550098318581"
     },
     "user_tz": 0
    },
    "id": "2ae8f22d"
   },
   "outputs": [],
   "source": [
    "class TorchEnv:\n",
    "    def __init__(self, env: gym.Env, transforms=None, terminate_after_lose_life=True, image_listener=None):\n",
    "        self.env = env\n",
    "        self.n_observations = self.env.observation_space.shape[0]\n",
    "        self.n_actions = self.env.action_space.n\n",
    "        self.transforms = transforms\n",
    "        self.terminate_after_lose_life = terminate_after_lose_life\n",
    "        self.image_listener = image_listener\n",
    "        \n",
    "\n",
    "    def step(self, a):\n",
    "        s, r, terminated, _, info = self.env.step(a)\n",
    "        r = np.clip(r, -1, 1) # clip rewards between -1 and 1 as per DeepMind\n",
    "\n",
    "        if self.image_listener:\n",
    "            self.image_listener(s)\n",
    "\n",
    "        # terminate if we lose a life as per Rainbow\n",
    "        # https://arxiv.org/pdf/1710.02298.pdf\n",
    "        if self.lives != info['lives'] and self.terminate_after_lose_life:\n",
    "            terminated = True\n",
    "        \n",
    "        s = s[None, :, :, :] # HWC -> BCHW\n",
    "        \n",
    "        if self.transforms:\n",
    "            s = self.transforms(s)\n",
    "        return s, r, terminated\n",
    "\n",
    "    def reset(self, *args, **kwargs):\n",
    "        s, info = self.env.reset(*args, **kwargs)\n",
    "        if self.image_listener:\n",
    "            self.image_listener(s)\n",
    "        self.lives = info['lives']\n",
    "    \n",
    "        # at episode start, repeat and stack the first state 4 times\n",
    "        stack = [s]\n",
    "        stack = np.vstack([s[None, :, :, :]] * MIN_STACK_SIZE) # HWC -> BHWC\n",
    "        \n",
    "        if self.transforms:\n",
    "            stack = self.transforms(stack)\n",
    "        \n",
    "        return stack\n",
    "\n",
    "    def close(self):\n",
    "        return self.env.close()\n",
    "    \n",
    "    def sample(self):\n",
    "        return np.random.randint(self.n_actions)\n",
    "\n",
    "env = TorchEnv(gym.make(environment))"
   ]
  },
  {
   "cell_type": "markdown",
   "id": "83317d5b",
   "metadata": {
    "id": "83317d5b"
   },
   "source": [
    "## Breakout"
   ]
  },
  {
   "cell_type": "markdown",
   "id": "b3b7d9f1",
   "metadata": {
    "id": "b3b7d9f1"
   },
   "source": [
    "### Preprocessing"
   ]
  },
  {
   "cell_type": "code",
   "execution_count": 42,
   "id": "23fe59a4",
   "metadata": {},
   "outputs": [
    {
     "data": {
      "image/png": "[encoded data removed]",
      "text/plain": [
       "<Figure size 640x480 with 1 Axes>"
      ]
     },
     "metadata": {},
     "output_type": "display_data"
    }
   ],
   "source": [
    "env = TorchEnv(gym.make(environment))\n",
    "stack = env.reset() \n",
    "for _ in range(10):\n",
    "    stack, *_ = env.step(env.sample())\n",
    "plt.imshow(stack[-1])\n",
    "plt.savefig('breakout-raw.png')"
   ]
  },
  {
   "cell_type": "markdown",
   "id": "d079db6b",
   "metadata": {},
   "source": [
    "#### Greyscale"
   ]
  },
  {
   "cell_type": "code",
   "execution_count": 43,
   "id": "c01eb3a6",
   "metadata": {},
   "outputs": [],
   "source": [
    "class BatchGrayscale:\n",
    "    def __init__(self):\n",
    "        self.transforms = transforms.Grayscale()\n",
    "\n",
    "    def __call__(self, batch: torch.Tensor):\n",
    "        \"\"\"\n",
    "        Args:\n",
    "            batch (torch.Tensor): expects batch to be of shape (B, H, W, C)\n",
    "        Returns:\n",
    "            torch.Tensor: batch of shape (B, C, H, W)\n",
    "        \"\"\"\n",
    "        grey_pt_stack = torch.stack([self.transforms(s.permute(2,0,1)) for s in batch])\n",
    "        return grey_pt_stack"
   ]
  },
  {
   "cell_type": "code",
   "execution_count": 96,
   "id": "f194f339",
   "metadata": {},
   "outputs": [],
   "source": [
    "def imglistshow(v_slice, filename):\n",
    "    plt.figure()\n",
    "    #subplot(r,c) provide the no. of rows and columns\n",
    "    f, axarr = plt.subplots(nrows=1, ncols=4)\n",
    "    \n",
    "    # use the created array to output your multiple images. In this case I have stacked 4 images vertically\n",
    "    for i, image in enumerate(v_slice):\n",
    "        axarr[i].axis(\"off\")\n",
    "        axarr[i].imshow(image)\n",
    "    \n",
    "    plt.savefig(filename)"
   ]
  },
  {
   "cell_type": "code",
   "execution_count": 57,
   "id": "2b356735",
   "metadata": {},
   "outputs": [
    {
     "data": {
      "text/plain": [
       "(1, 210, 160, 3)"
      ]
     },
     "execution_count": 57,
     "metadata": {},
     "output_type": "execute_result"
    }
   ],
   "source": [
    "stack.shape"
   ]
  },
  {
   "cell_type": "code",
   "execution_count": 67,
   "id": "152a968b",
   "metadata": {},
   "outputs": [
    {
     "data": {
      "text/plain": [
       "<matplotlib.image.AxesImage at 0x134919c30>"
      ]
     },
     "execution_count": 67,
     "metadata": {},
     "output_type": "execute_result"
    },
    {
     "data": {
      "image/png": "[encoded data removed]",
      "text/plain": [
       "<Figure size 640x480 with 1 Axes>"
      ]
     },
     "metadata": {},
     "output_type": "display_data"
    }
   ],
   "source": [
    "greyscale = BatchGrayscale() #transforms to grayscale\n",
    "pt_stack = torch.from_numpy(stack).to(device)\n",
    "img_stack = greyscale(pt_stack)\n",
    "plt.imshow(img_stack.squeeze(1).permute(1, 2, 0))"
   ]
  },
  {
   "cell_type": "code",
   "execution_count": 68,
   "id": "557d7090",
   "metadata": {},
   "outputs": [],
   "source": [
    "class BatchDownsample:\n",
    "    def __init__(self, size=(110,84)):\n",
    "        self.size = size\n",
    "    \n",
    "    def __call__(self, batch: torch.Tensor):\n",
    "        \"\"\"\n",
    "        Args:\n",
    "            batch (torch.Tensor): expects batch to be of shape (B, C, H, W)\n",
    "        Returns:\n",
    "            torch.Tensor: batch of shape (B, C, H, W)\n",
    "        \"\"\"\n",
    "        orig_dtype = batch.dtype\n",
    "        result = nn.functional.interpolate(batch.float(), size=self.size,  mode='bilinear')\n",
    "        return result.type(orig_dtype)"
   ]
  },
  {
   "cell_type": "code",
   "execution_count": 70,
   "id": "3659ff7a",
   "metadata": {},
   "outputs": [
    {
     "data": {
      "text/plain": [
       "<matplotlib.image.AxesImage at 0x1349872e0>"
      ]
     },
     "execution_count": 70,
     "metadata": {},
     "output_type": "execute_result"
    },
    {
     "data": {
      "image/png": "[encoded data removed]",
      "text/plain": [
       "<Figure size 640x480 with 1 Axes>"
      ]
     },
     "metadata": {},
     "output_type": "display_data"
    }
   ],
   "source": [
    "batch_downsample = BatchDownsample(size=(110,84))\n",
    "downsampled_stack = batch_downsample(img_stack)\n",
    "plt.imshow(downsampled_stack.squeeze(1).permute(1, 2, 0))"
   ]
  },
  {
   "cell_type": "code",
   "execution_count": 71,
   "id": "1dc85b67",
   "metadata": {},
   "outputs": [],
   "source": [
    "class BatchCrop:\n",
    "    def __init__(self, size=(84,84)):\n",
    "        self.size = size\n",
    "    \n",
    "    def __call__(self, batch: torch.Tensor):\n",
    "        \"\"\" crop 17 pixels from top and bottom\n",
    "        Args:\n",
    "            batch (torch.Tensor): expects batch to be of shape (B, C, H, W)\n",
    "        Returns:\n",
    "            torch.Tensor: batch of shape (B, C, H, W)\n",
    "        \"\"\"\n",
    "        return batch[:, :,  17:17+self.size[0], :] # crop 17 pixels from top and bottom"
   ]
  },
  {
   "cell_type": "code",
   "execution_count": 72,
   "id": "7fb34dae",
   "metadata": {},
   "outputs": [
    {
     "data": {
      "text/plain": [
       "<matplotlib.image.AxesImage at 0x134a34bb0>"
      ]
     },
     "execution_count": 72,
     "metadata": {},
     "output_type": "execute_result"
    },
    {
     "data": {
      "image/png": "[encoded data removed]",
      "text/plain": [
       "<Figure size 640x480 with 1 Axes>"
      ]
     },
     "metadata": {},
     "output_type": "display_data"
    }
   ],
   "source": [
    "batch_downsample = BatchCrop(size=(84,84))\n",
    "batch_downsample = batch_downsample(downsampled_stack)\n",
    "plt.imshow(batch_downsample.squeeze(1).permute(1, 2, 0))"
   ]
  },
  {
   "cell_type": "code",
   "execution_count": 73,
   "id": "084ae4b7",
   "metadata": {},
   "outputs": [],
   "source": [
    "class BatchToTensor:\n",
    "    def __init__(self, device):\n",
    "        self.device = device\n",
    "\n",
    "    def __call__(self, batch: np.array):\n",
    "        \"\"\"\n",
    "        Args:\n",
    "            batch (np.array): expects a numpy array\n",
    "        Returns:\n",
    "            torch.Tensor: torch tensor on device\n",
    "        \"\"\"\n",
    "        return torch.from_numpy(batch).to(self.device)"
   ]
  },
  {
   "cell_type": "code",
   "execution_count": 74,
   "id": "e0eb71d3",
   "metadata": {},
   "outputs": [],
   "source": [
    "class TransformPipeline:\n",
    "    def __init__(self, transforms):\n",
    "        self.transforms = transforms\n",
    "    \n",
    "    def __call__(self, batch: torch.Tensor):\n",
    "        for transform in self.transforms:\n",
    "            batch = transform(batch)\n",
    "        return batch"
   ]
  },
  {
   "cell_type": "code",
   "execution_count": 75,
   "id": "33e8702b",
   "metadata": {},
   "outputs": [],
   "source": [
    "pipeline = TransformPipeline([BatchToTensor(device), BatchGrayscale(), BatchDownsample(), BatchCrop()])"
   ]
  },
  {
   "cell_type": "code",
   "execution_count": 76,
   "id": "2c7b4df0",
   "metadata": {
    "executionInfo": {
     "elapsed": 2,
     "status": "ok",
     "timestamp": 1705481786623,
     "user": {
      "displayName": "Gareth Davies",
      "userId": "11833826550098318581"
     },
     "user_tz": 0
    },
    "id": "2c7b4df0"
   },
   "outputs": [],
   "source": [
    "def test_should_preprocess_to_correct_shape():   \n",
    "    pipeline = TransformPipeline([BatchToTensor(device), BatchGrayscale(), BatchDownsample(), BatchCrop()]) \n",
    "    env = TorchEnv(gym.make(environment))\n",
    "    s = env.reset()\n",
    "    preprocessed_s_prime = pipeline(s)\n",
    "    assert preprocessed_s_prime.shape == (4,1,84,84) # 4 frames, 1 channel, 84x84\n",
    "\n",
    "test_should_preprocess_to_correct_shape()"
   ]
  },
  {
   "cell_type": "markdown",
   "id": "083ac764",
   "metadata": {
    "id": "083ac764"
   },
   "source": [
    "## fill replay memory\n",
    "here we fill the replay memory with downsampled cropped stacks"
   ]
  },
  {
   "cell_type": "code",
   "execution_count": 77,
   "id": "9eac8602",
   "metadata": {
    "executionInfo": {
     "elapsed": 2,
     "status": "ok",
     "timestamp": 1705481796263,
     "user": {
      "displayName": "Gareth Davies",
      "userId": "11833826550098318581"
     },
     "user_tz": 0
    },
    "id": "9eac8602"
   },
   "outputs": [],
   "source": [
    "class ExperienceReplay:\n",
    "    def __init__(self, maxlen: int) -> None:\n",
    "        self.deque = deque(maxlen=maxlen)\n",
    "        self.maxlen = maxlen\n",
    "\n",
    "    def append(self, x: tuple)-> None:\n",
    "        self.deque.append(x)\n",
    "\n",
    "    def sample(self, bs: int) -> list:\n",
    "        return random.sample(self.deque, min(len(self), bs))\n",
    "\n",
    "    def __len__(self) -> int:\n",
    "        return len(self.deque)\n",
    "    \n",
    "    @classmethod\n",
    "    def load(cls, path: str):\n",
    "        with open(path, 'rb') as f:\n",
    "            return pickle.load(f)\n",
    "        \n",
    "    def save(self, path: str):\n",
    "        with open(path, 'wb') as f:\n",
    "            return pickle.dump(self, f)\n",
    "\n",
    "def fill(replay_memory:ExperienceReplay, env:TorchEnv, fill_size:int = replay_start_size) -> None :\n",
    "    while len(replay_memory)<fill_size:\n",
    "        s = env.reset()\n",
    "        terminated=False\n",
    "        while terminated == False and len(replay_memory)<fill_size:\n",
    "            a = env.sample()\n",
    "            s_prime, r, terminated = env.step(a)\n",
    "            s_prime = torch.cat([s, s_prime])[-4:]\n",
    "            replay_memory.append((s, a, r, s_prime, terminated))\n",
    "            s = s_prime"
   ]
  },
  {
   "cell_type": "code",
   "execution_count": 82,
   "id": "5d0c4934",
   "metadata": {},
   "outputs": [
    {
     "data": {
      "text/plain": [
       "torch.Size([4, 1, 84, 84])"
      ]
     },
     "execution_count": 82,
     "metadata": {},
     "output_type": "execute_result"
    }
   ],
   "source": [
    "env = TorchEnv(gym.make(environment), transforms=pipeline)\n",
    "replay_memory = ExperienceReplay(replay_memory_size)\n",
    "fill(replay_memory, env, fill_size=100)\n",
    "samples = replay_memory.sample(3)\n",
    "s, a, r, s_prime, terminated = samples[0]\n",
    "s.shape"
   ]
  },
  {
   "cell_type": "code",
   "execution_count": 97,
   "id": "bbcdfc51",
   "metadata": {
    "colab": {
     "base_uri": "https://localhost:8080/",
     "height": 451
    },
    "executionInfo": {
     "elapsed": 423,
     "status": "ok",
     "timestamp": 1705481800746,
     "user": {
      "displayName": "Gareth Davies",
      "userId": "11833826550098318581"
     },
     "user_tz": 0
    },
    "id": "bbcdfc51",
    "outputId": "89ee91f7-27f6-49a5-9c7f-0108126bcb68"
   },
   "outputs": [
    {
     "data": {
      "text/plain": [
       "<Figure size 640x480 with 0 Axes>"
      ]
     },
     "metadata": {},
     "output_type": "display_data"
    },
    {
     "data": {
      "image/png": "[encoded data removed]",
      "text/plain": [
       "<Figure size 640x480 with 4 Axes>"
      ]
     },
     "metadata": {},
     "output_type": "display_data"
    }
   ],
   "source": [
    "imglistshow(s.squeeze(1).cpu(), 'breakout-processed.png')"
   ]
  },
  {
   "cell_type": "code",
   "execution_count": 22,
   "id": "c2554b07",
   "metadata": {},
   "outputs": [
    {
     "data": {
      "text/plain": [
       "<wandb.sdk.data_types.image.Image at 0x1262ca4a0>"
      ]
     },
     "execution_count": 22,
     "metadata": {},
     "output_type": "execute_result"
    }
   ],
   "source": [
    "wandb.Image(s[:2].cpu(), caption=\"Top: Frame at t , Bottom: Frame at t+1\")"
   ]
  },
  {
   "cell_type": "markdown",
   "id": "bee5f456",
   "metadata": {
    "id": "bee5f456"
   },
   "source": [
    "## Define the Atari DQN"
   ]
  },
  {
   "cell_type": "code",
   "execution_count": 99,
   "id": "e03eb896",
   "metadata": {},
   "outputs": [],
   "source": [
    "class DQNDeepmind2013(nn.Module):\n",
    "    def __init__(self, n_actions):\n",
    "        super(DQNDeepmind2013, self).__init__()\n",
    "        self.conv = nn.Sequential(\n",
    "            nn.Conv2d(4, 16, 8, stride=4),\n",
    "            nn.ReLU(),\n",
    "            nn.Conv2d(16, 32, 4, stride=2),\n",
    "            nn.ReLU(),\n",
    "            nn.Flatten(),\n",
    "            nn.Linear(32*9*9, 256),\n",
    "            nn.ReLU(),\n",
    "            nn.Linear(256, n_actions)\n",
    "        )\n",
    "        \n",
    "    def forward(self, s):\n",
    "        return self.conv(s) \n",
    "    \n"
   ]
  },
  {
   "cell_type": "code",
   "execution_count": 100,
   "id": "ad53db6c",
   "metadata": {
    "executionInfo": {
     "elapsed": 207,
     "status": "ok",
     "timestamp": 1705481813206,
     "user": {
      "displayName": "Gareth Davies",
      "userId": "11833826550098318581"
     },
     "user_tz": 0
    },
    "id": "ad53db6c"
   },
   "outputs": [],
   "source": [
    "class AtariDQN(nn.Module):\n",
    "    def __init__(self, net, n_actions, normalize=True):\n",
    "        super(AtariDQN, self).__init__()\n",
    "        self.net = net\n",
    "        self.n_actions = n_actions\n",
    "        self.normalize = normalize\n",
    "\n",
    "    def forward(self, s: torch.Tensor):\n",
    "        '''\n",
    "        Args:\n",
    "            s (torch.Tensor): batch of shape (B, H, W)\n",
    "        Returns:\n",
    "            torch.Tensor: batch of shape (B, n_actions)\n",
    "        '''\n",
    "        if self.normalize:\n",
    "            s = s.float() / 255.0\n",
    "        return self.net(s)\n",
    "\n",
    "    def select_next_action(self, s, epsilon):\n",
    "        with torch.no_grad():\n",
    "            use_greedy = np.random.binomial(1, 1-epsilon)\n",
    "            if use_greedy:\n",
    "                a = self(s).argmax().item()\n",
    "            else:\n",
    "                a = np.random.randint(self.n_actions)\n",
    "            return a"
   ]
  },
  {
   "cell_type": "markdown",
   "id": "829732d1",
   "metadata": {
    "id": "829732d1"
   },
   "source": [
    "# Train Network"
   ]
  },
  {
   "cell_type": "code",
   "execution_count": 26,
   "id": "7298055d",
   "metadata": {
    "execution": {
     "iopub.execute_input": "2024-01-20T09:57:38.319912Z",
     "iopub.status.busy": "2024-01-20T09:57:38.319145Z",
     "iopub.status.idle": "2024-01-20T09:57:38.343313Z",
     "shell.execute_reply": "2024-01-20T09:57:38.342791Z",
     "shell.execute_reply.started": "2024-01-20T09:57:38.319886Z"
    },
    "executionInfo": {
     "elapsed": 211,
     "status": "ok",
     "timestamp": 1705481815123,
     "user": {
      "displayName": "Gareth Davies",
      "userId": "11833826550098318581"
     },
     "user_tz": 0
    },
    "id": "7298055d"
   },
   "outputs": [],
   "source": [
    "dqn = AtariDQN(DQNDeepmind2013(env.n_actions).to(device), n_actions=env.n_actions).to(device)\n",
    "if BASE_MODEL is not None:\n",
    "    print(f\"Loading base model from {BASE_MODEL}\")\n",
    "    dqn.load_state_dict(torch.load(BASE_MODEL))"
   ]
  },
  {
   "cell_type": "code",
   "execution_count": 27,
   "id": "b72ac1cb",
   "metadata": {
    "colab": {
     "base_uri": "https://localhost:8080/"
    },
    "execution": {
     "iopub.execute_input": "2024-01-20T09:57:44.752327Z",
     "iopub.status.busy": "2024-01-20T09:57:44.751896Z",
     "iopub.status.idle": "2024-01-20T09:57:44.853896Z",
     "shell.execute_reply": "2024-01-20T09:57:44.853289Z",
     "shell.execute_reply.started": "2024-01-20T09:57:44.752298Z"
    },
    "executionInfo": {
     "elapsed": 2,
     "status": "ok",
     "timestamp": 1705481817498,
     "user": {
      "displayName": "Gareth Davies",
      "userId": "11833826550098318581"
     },
     "user_tz": 0
    },
    "id": "b72ac1cb",
    "outputId": "fead66f6-f24a-46bd-dffd-bf4d7238f945"
   },
   "outputs": [],
   "source": [
    "def test_should_return_value_for_each_action():\n",
    "    n_actions = 4\n",
    "    dqn = AtariDQN(DQNDeepmind2013(n_actions), n_actions=n_actions)\n",
    "    samples = torch.randn(32, 4, 1, 84, 84)\n",
    "    out = dqn(samples[0].squeeze(1).unsqueeze(0)).squeeze(0)\n",
    "    assert out.shape[0] == env.n_actions\n",
    "\n",
    "test_should_return_value_for_each_action()"
   ]
  },
  {
   "cell_type": "code",
   "execution_count": 28,
   "id": "6813a739",
   "metadata": {
    "colab": {
     "base_uri": "https://localhost:8080/"
    },
    "execution": {
     "iopub.execute_input": "2024-01-20T09:58:06.802828Z",
     "iopub.status.busy": "2024-01-20T09:58:06.802260Z",
     "iopub.status.idle": "2024-01-20T09:58:06.807862Z",
     "shell.execute_reply": "2024-01-20T09:58:06.807292Z",
     "shell.execute_reply.started": "2024-01-20T09:58:06.802804Z"
    },
    "executionInfo": {
     "elapsed": 18,
     "status": "ok",
     "timestamp": 1705481838021,
     "user": {
      "displayName": "Gareth Davies",
      "userId": "11833826550098318581"
     },
     "user_tz": 0
    },
    "id": "6813a739",
    "outputId": "6bfe645a-b84d-491e-f374-b356f68b6006"
   },
   "outputs": [
    {
     "data": {
      "text/plain": [
       "AtariDQN(\n",
       "  (net): DQNDeepmind2013(\n",
       "    (conv): Sequential(\n",
       "      (0): Conv2d(4, 16, kernel_size=(8, 8), stride=(4, 4))\n",
       "      (1): ReLU()\n",
       "      (2): Conv2d(16, 32, kernel_size=(4, 4), stride=(2, 2))\n",
       "      (3): ReLU()\n",
       "      (4): Flatten(start_dim=1, end_dim=-1)\n",
       "      (5): Linear(in_features=2592, out_features=256, bias=True)\n",
       "      (6): ReLU()\n",
       "      (7): Linear(in_features=256, out_features=4, bias=True)\n",
       "    )\n",
       "  )\n",
       ")"
      ]
     },
     "execution_count": 28,
     "metadata": {},
     "output_type": "execute_result"
    }
   ],
   "source": [
    "optimizer = Optimizer(dqn.parameters(),  lr=lr, eps=adam_epsilon)\n",
    "dqn.train()"
   ]
  },
  {
   "cell_type": "code",
   "execution_count": 29,
   "id": "85da894e",
   "metadata": {
    "execution": {
     "iopub.execute_input": "2024-01-20T09:58:31.955949Z",
     "iopub.status.busy": "2024-01-20T09:58:31.955285Z",
     "iopub.status.idle": "2024-01-20T09:58:31.960596Z",
     "shell.execute_reply": "2024-01-20T09:58:31.960147Z",
     "shell.execute_reply.started": "2024-01-20T09:58:31.955918Z"
    },
    "executionInfo": {
     "elapsed": 195,
     "status": "ok",
     "timestamp": 1705481860023,
     "user": {
      "displayName": "Gareth Davies",
      "userId": "11833826550098318581"
     },
     "user_tz": 0
    },
    "id": "85da894e"
   },
   "outputs": [],
   "source": [
    "def atari_collate(batch):\n",
    "    s_j, a_j, r_j, s_prime_j, terminated_j = list(zip(*batch))\n",
    "    return (torch.stack(s_j).squeeze(2).to(device), \n",
    "            torch.tensor(a_j).to(device), \n",
    "            torch.tensor(r_j).to(device), \n",
    "            torch.stack(s_prime_j).squeeze(2).to(device), \n",
    "            (~torch.tensor(terminated_j)).to(device).half()\n",
    "    )\n",
    "def get_batch_efficient(self, batch, collate_fn=None):\n",
    "    s, a, r, s_prime, not_terminated = collate_fn(batch)\n",
    "\n",
    "    y_hat = self(s).gather(1, a.unsqueeze(1)).squeeze() # gather the values at the indices given by the actions a\n",
    "\n",
    "    with torch.no_grad():\n",
    "        next_values, _ = self(s_prime).max(dim=1)\n",
    "        next_values = next_values.clone().detach()\n",
    "    y_j = r.detach().clone() + gamma * next_values * not_terminated # if terminated then not_terminated is set to zero (y_j = r)\n",
    "    return y_hat, y_j\n",
    "\n",
    "def get_epsilon(epsilon, final_epsilon=0.1, steps_to_anneal=final_exploration_frame):\n",
    "    if epsilon > final_epsilon:\n",
    "        epsilon -= (1/steps_to_anneal) * (1-final_epsilon)\n",
    "    return epsilon"
   ]
  },
  {
   "cell_type": "code",
   "execution_count": 30,
   "id": "46a0f0ea",
   "metadata": {},
   "outputs": [
    {
     "data": {
      "text/plain": [
       "0.52"
      ]
     },
     "execution_count": 30,
     "metadata": {},
     "output_type": "execute_result"
    }
   ],
   "source": [
    "def validate(dqn, env):\n",
    "    k = 0\n",
    "    total_rewards = []\n",
    "    while k < 15*60*5: #15 frames / sec * 60 seconds * 5 minutes\n",
    "        terminated = False\n",
    "        rewards = 0\n",
    "        s = env.reset()\n",
    "        while terminated == False:\n",
    "            a = dqn.select_next_action(s.squeeze(1).unsqueeze(0), 0.1)\n",
    "            s_prime, r, terminated = env.step(a)\n",
    "            s_prime = torch.cat([s, s_prime])[-4:]\n",
    "            s = s_prime\n",
    "            rewards += r\n",
    "            k += 1\n",
    "        total_rewards.append(rewards)\n",
    "    return sum(total_rewards)/len(total_rewards)\n",
    "\n",
    "validate(dqn, env)"
   ]
  },
  {
   "cell_type": "code",
   "execution_count": 31,
   "id": "0c367002",
   "metadata": {
    "colab": {
     "base_uri": "https://localhost:8080/"
    },
    "execution": {
     "iopub.execute_input": "2024-01-20T09:58:34.394285Z",
     "iopub.status.busy": "2024-01-20T09:58:34.393473Z",
     "iopub.status.idle": "2024-01-20T09:58:34.398973Z",
     "shell.execute_reply": "2024-01-20T09:58:34.398239Z",
     "shell.execute_reply.started": "2024-01-20T09:58:34.394248Z"
    },
    "executionInfo": {
     "elapsed": 3,
     "status": "ok",
     "timestamp": 1705481873718,
     "user": {
      "displayName": "Gareth Davies",
      "userId": "11833826550098318581"
     },
     "user_tz": 0
    },
    "id": "0c367002",
    "outputId": "39c78315-d9ae-4f54-fc36-1cb33346a2e5"
   },
   "outputs": [
    {
     "name": "stdout",
     "output_type": "stream",
     "text": [
      "200\n"
     ]
    },
    {
     "ename": "KeyboardInterrupt",
     "evalue": "",
     "output_type": "error",
     "traceback": [
      "\u001b[0;31m---------------------------------------------------------------------------\u001b[0m",
      "\u001b[0;31mKeyboardInterrupt\u001b[0m                         Traceback (most recent call last)",
      "\u001b[1;32m/Users/garethdavies/Development/workspaces/rl/dqn/breakout-2013.ipynb Cell 38\u001b[0m line \u001b[0;36m8\n\u001b[1;32m      <a href='vscode-notebook-cell:/Users/garethdavies/Development/workspaces/rl/dqn/breakout-2013.ipynb#X53sZmlsZQ%3D%3D?line=5'>6</a>\u001b[0m \u001b[39mwhile\u001b[39;00m k \u001b[39m<\u001b[39m EPOCH_SIZE:\n\u001b[1;32m      <a href='vscode-notebook-cell:/Users/garethdavies/Development/workspaces/rl/dqn/breakout-2013.ipynb#X53sZmlsZQ%3D%3D?line=6'>7</a>\u001b[0m     terminated \u001b[39m=\u001b[39m \u001b[39mFalse\u001b[39;00m\n\u001b[0;32m----> <a href='vscode-notebook-cell:/Users/garethdavies/Development/workspaces/rl/dqn/breakout-2013.ipynb#X53sZmlsZQ%3D%3D?line=7'>8</a>\u001b[0m     s \u001b[39m=\u001b[39m env\u001b[39m.\u001b[39;49mreset()\n\u001b[1;32m      <a href='vscode-notebook-cell:/Users/garethdavies/Development/workspaces/rl/dqn/breakout-2013.ipynb#X53sZmlsZQ%3D%3D?line=8'>9</a>\u001b[0m     \u001b[39mwhile\u001b[39;00m terminated \u001b[39m==\u001b[39m \u001b[39mFalse\u001b[39;00m:\n\u001b[1;32m     <a href='vscode-notebook-cell:/Users/garethdavies/Development/workspaces/rl/dqn/breakout-2013.ipynb#X53sZmlsZQ%3D%3D?line=9'>10</a>\u001b[0m         a \u001b[39m=\u001b[39m dqn\u001b[39m.\u001b[39mselect_next_action(s\u001b[39m.\u001b[39msqueeze(\u001b[39m1\u001b[39m)\u001b[39m.\u001b[39munsqueeze(\u001b[39m0\u001b[39m), epsilon)\n",
      "\u001b[1;32m/Users/garethdavies/Development/workspaces/rl/dqn/breakout-2013.ipynb Cell 38\u001b[0m line \u001b[0;36m2\n\u001b[1;32m     <a href='vscode-notebook-cell:/Users/garethdavies/Development/workspaces/rl/dqn/breakout-2013.ipynb#X53sZmlsZQ%3D%3D?line=27'>28</a>\u001b[0m \u001b[39mdef\u001b[39;00m \u001b[39mreset\u001b[39m(\u001b[39mself\u001b[39m, \u001b[39m*\u001b[39margs, \u001b[39m*\u001b[39m\u001b[39m*\u001b[39mkwargs):\n\u001b[0;32m---> <a href='vscode-notebook-cell:/Users/garethdavies/Development/workspaces/rl/dqn/breakout-2013.ipynb#X53sZmlsZQ%3D%3D?line=28'>29</a>\u001b[0m     s, info \u001b[39m=\u001b[39m \u001b[39mself\u001b[39;49m\u001b[39m.\u001b[39;49menv\u001b[39m.\u001b[39;49mreset(\u001b[39m*\u001b[39;49margs, \u001b[39m*\u001b[39;49m\u001b[39m*\u001b[39;49mkwargs)\n\u001b[1;32m     <a href='vscode-notebook-cell:/Users/garethdavies/Development/workspaces/rl/dqn/breakout-2013.ipynb#X53sZmlsZQ%3D%3D?line=29'>30</a>\u001b[0m     \u001b[39mif\u001b[39;00m \u001b[39mself\u001b[39m\u001b[39m.\u001b[39mimage_listener:\n\u001b[1;32m     <a href='vscode-notebook-cell:/Users/garethdavies/Development/workspaces/rl/dqn/breakout-2013.ipynb#X53sZmlsZQ%3D%3D?line=30'>31</a>\u001b[0m         \u001b[39mself\u001b[39m\u001b[39m.\u001b[39mimage_listener(s)\n",
      "File \u001b[0;32m~/Development/workspaces/rl/venv/lib/python3.10/site-packages/gymnasium/wrappers/order_enforcing.py:61\u001b[0m, in \u001b[0;36mOrderEnforcing.reset\u001b[0;34m(self, **kwargs)\u001b[0m\n\u001b[1;32m     59\u001b[0m \u001b[39m\u001b[39m\u001b[39m\"\"\"Resets the environment with `kwargs`.\"\"\"\u001b[39;00m\n\u001b[1;32m     60\u001b[0m \u001b[39mself\u001b[39m\u001b[39m.\u001b[39m_has_reset \u001b[39m=\u001b[39m \u001b[39mTrue\u001b[39;00m\n\u001b[0;32m---> 61\u001b[0m \u001b[39mreturn\u001b[39;00m \u001b[39mself\u001b[39;49m\u001b[39m.\u001b[39;49menv\u001b[39m.\u001b[39;49mreset(\u001b[39m*\u001b[39;49m\u001b[39m*\u001b[39;49mkwargs)\n",
      "File \u001b[0;32m~/Development/workspaces/rl/venv/lib/python3.10/site-packages/gymnasium/wrappers/env_checker.py:59\u001b[0m, in \u001b[0;36mPassiveEnvChecker.reset\u001b[0;34m(self, **kwargs)\u001b[0m\n\u001b[1;32m     57\u001b[0m     \u001b[39mreturn\u001b[39;00m env_reset_passive_checker(\u001b[39mself\u001b[39m\u001b[39m.\u001b[39menv, \u001b[39m*\u001b[39m\u001b[39m*\u001b[39mkwargs)\n\u001b[1;32m     58\u001b[0m \u001b[39melse\u001b[39;00m:\n\u001b[0;32m---> 59\u001b[0m     \u001b[39mreturn\u001b[39;00m \u001b[39mself\u001b[39;49m\u001b[39m.\u001b[39;49menv\u001b[39m.\u001b[39;49mreset(\u001b[39m*\u001b[39;49m\u001b[39m*\u001b[39;49mkwargs)\n",
      "File \u001b[0;32m~/Development/workspaces/rl/venv/lib/python3.10/site-packages/shimmy/atari_env.py:258\u001b[0m, in \u001b[0;36mAtariEnv.reset\u001b[0;34m(***failed resolving arguments***)\u001b[0m\n\u001b[1;32m    255\u001b[0m \u001b[39mif\u001b[39;00m seed \u001b[39mis\u001b[39;00m \u001b[39mnot\u001b[39;00m \u001b[39mNone\u001b[39;00m:\n\u001b[1;32m    256\u001b[0m     seeded_with \u001b[39m=\u001b[39m \u001b[39mself\u001b[39m\u001b[39m.\u001b[39mseed(seed)\n\u001b[0;32m--> 258\u001b[0m \u001b[39mself\u001b[39;49m\u001b[39m.\u001b[39;49male\u001b[39m.\u001b[39;49mreset_game()\n\u001b[1;32m    259\u001b[0m obs \u001b[39m=\u001b[39m \u001b[39mself\u001b[39m\u001b[39m.\u001b[39m_get_obs()\n\u001b[1;32m    261\u001b[0m info \u001b[39m=\u001b[39m \u001b[39mself\u001b[39m\u001b[39m.\u001b[39m_get_info()\n",
      "\u001b[0;31mKeyboardInterrupt\u001b[0m: "
     ]
    }
   ],
   "source": [
    "n_epochs = FRAMES_TO_TRAIN // EPOCH_SIZE\n",
    "print(n_epochs)\n",
    "track = True\n",
    "for epoch in range(n_epochs):\n",
    "    epoch_loss, epoch_reward, k, epoch_episodes = 0, 0, 0, 0\n",
    "    while k < EPOCH_SIZE:\n",
    "        terminated = False\n",
    "        s = env.reset()\n",
    "        while terminated == False:\n",
    "            a = dqn.select_next_action(s.squeeze(1).unsqueeze(0), epsilon)\n",
    "            s_prime, r, terminated = env.step(a)\n",
    "            s_prime = torch.cat([s, s_prime])[-4:]\n",
    "            replay_memory.append((s, a, r, s_prime, terminated))\n",
    "            epsilon = get_epsilon(epsilon)\n",
    "            s = s_prime\n",
    "\n",
    "            if len(replay_memory) > replay_start_size:\n",
    "                optimizer.zero_grad()\n",
    "                batch = replay_memory.sample(bs)\n",
    "                y_hat, y = get_batch_efficient(dqn, batch,  collate_fn=atari_collate)\n",
    "                loss = loss_fn(y_hat, y)\n",
    "                loss.backward()\n",
    "                torch.nn.utils.clip_grad_value_(dqn.parameters(), max_grad_norm)\n",
    "                optimizer.step()\n",
    "                        \n",
    "                \n",
    "                loss = loss.detach()\n",
    "                epoch_loss += loss.item()\n",
    "            epoch_reward += r\n",
    "            k += 1\n",
    "        epoch_episodes += 1\n",
    "    \n",
    "    if track:\n",
    "        validate_reward = validate(dqn, env)\n",
    "        torch.save(dqn.state_dict(), 'breakout2013.pt')\n",
    "        wandb.log_model(name=f\"breakout2013-{wandb.run.id}\", path='breakout2013.pt')\n",
    "        wandb.log({\"epoch\":epoch,\n",
    "                \"step_loss\": epoch_loss / k, \n",
    "                \"reward\": epoch_reward / epoch_episodes,\n",
    "                \"step\":k,\n",
    "                \"epsilon\": epsilon,\n",
    "                \"validate_reward\":validate_reward\n",
    "                })\n",
    "        print(f'epochs {epoch}, step_loss {epoch_loss / k}, reward {epoch_reward / epoch_episodes}, k {k}, epsilon {epsilon}')\n",
    "env.close()"
   ]
  },
  {
   "cell_type": "code",
   "execution_count": 302,
   "id": "2e7b660f",
   "metadata": {},
   "outputs": [
    {
     "data": {
      "application/vnd.jupyter.widget-view+json": {
       "model_id": "",
       "version_major": 2,
       "version_minor": 0
      },
      "text/plain": [
       "VBox(children=(Label(value='0.001 MB of 0.009 MB uploaded\\r'), FloatProgress(value=0.10711586221790304, max=1.…"
      ]
     },
     "metadata": {},
     "output_type": "display_data"
    },
    {
     "data": {
      "text/html": [
       "<style>\n",
       "    table.wandb td:nth-child(1) { padding: 0 10px; text-align: left ; width: auto;} td:nth-child(2) {text-align: left ; width: 100%}\n",
       "    .wandb-row { display: flex; flex-direction: row; flex-wrap: wrap; justify-content: flex-start; width: 100% }\n",
       "    .wandb-col { display: flex; flex-direction: column; flex-basis: 100%; flex: 1; padding: 10px; }\n",
       "    </style>\n",
       "<div class=\"wandb-row\"><div class=\"wandb-col\"><h3>Run history:</h3><br/><table class=\"wandb\"><tr><td>epoch</td><td>▁▃▆█</td></tr><tr><td>epsilon</td><td>█▆▃▁</td></tr><tr><td>reward</td><td>▁█▃█</td></tr><tr><td>step</td><td>█▄▁█</td></tr><tr><td>step_loss</td><td>█▂▁▁</td></tr></table><br/></div><div class=\"wandb-col\"><h3>Run summary:</h3><br/><table class=\"wandb\"><tr><td>epoch</td><td>3</td></tr><tr><td>epsilon</td><td>0.99636</td></tr><tr><td>reward</td><td>1.5283</td></tr><tr><td>step</td><td>10160</td></tr><tr><td>step_loss</td><td>0.00035</td></tr></table><br/></div></div>"
      ],
      "text/plain": [
       "<IPython.core.display.HTML object>"
      ]
     },
     "metadata": {},
     "output_type": "display_data"
    },
    {
     "data": {
      "text/html": [
       " View run <strong style=\"color:#cdcd00\">comfy-armadillo-5</strong> at: <a href='https://wandb.ai/garethmd/atari/runs/1zvxlry0' target=\"_blank\">https://wandb.ai/garethmd/atari/runs/1zvxlry0</a><br/>Synced 5 W&B file(s), 0 media file(s), 0 artifact file(s) and 0 other file(s)"
      ],
      "text/plain": [
       "<IPython.core.display.HTML object>"
      ]
     },
     "metadata": {},
     "output_type": "display_data"
    },
    {
     "data": {
      "text/html": [
       "Find logs at: <code>./wandb/run-20240119_171245-1zvxlry0/logs</code>"
      ],
      "text/plain": [
       "<IPython.core.display.HTML object>"
      ]
     },
     "metadata": {},
     "output_type": "display_data"
    }
   ],
   "source": [
    "wandb.finish()"
   ]
  },
  {
   "cell_type": "markdown",
   "metadata": {},
   "source": [
    "### Validation"
   ]
  },
  {
   "cell_type": "code",
   "execution_count": 102,
   "id": "58c7ea61-6e62-4d27-b7ba-22b0546da653",
   "metadata": {},
   "outputs": [
    {
     "data": {
      "text/plain": [
       "<All keys matched successfully>"
      ]
     },
     "execution_count": 102,
     "metadata": {},
     "output_type": "execute_result"
    }
   ],
   "source": [
    "MODEL_FILE_PATH = 'breakout-2013.pt'\n",
    "env = TorchEnv(gym.make(environment), transforms=pipeline, terminate_after_lose_life=False)\n",
    "dqn = AtariDQN(DQNDeepmind2013(env.n_actions).to(device), n_actions=env.n_actions).to(device)\n",
    "dqn.load_state_dict(torch.load(MODEL_FILE_PATH, map_location=torch.device('cpu')))\n"
   ]
  },
  {
   "cell_type": "code",
   "execution_count": 103,
   "metadata": {},
   "outputs": [
    {
     "data": {
      "text/plain": [
       "13.666666666666666"
      ]
     },
     "execution_count": 103,
     "metadata": {},
     "output_type": "execute_result"
    }
   ],
   "source": [
    "\n",
    "def validate(dqn, env):\n",
    "    k = 0\n",
    "    total_rewards = []\n",
    "    while k < 15*60*5: #15 frames / sec * 60 seconds * 5 minutes\n",
    "        terminated = False\n",
    "        rewards = 0\n",
    "        s = env.reset()\n",
    "        while terminated == False:\n",
    "            a = dqn.select_next_action(s.squeeze(1).unsqueeze(0), 0.05)\n",
    "            s_prime, r, terminated = env.step(a)\n",
    "            s_prime = torch.cat([s, s_prime])[-4:]\n",
    "            s = s_prime\n",
    "            rewards += r\n",
    "            k += 1\n",
    "        total_rewards.append(rewards)\n",
    "    return sum(total_rewards)/len(total_rewards)\n",
    "\n",
    "validate(dqn, env)"
   ]
  },
  {
   "cell_type": "code",
   "execution_count": null,
   "metadata": {},
   "outputs": [],
   "source": [
    "from video import WRITERS"
   ]
  },
  {
   "cell_type": "code",
   "execution_count": 160,
   "id": "96409362-4fbc-48fc-9a16-07322ea6eb9d",
   "metadata": {},
   "outputs": [
    {
     "name": "stderr",
     "output_type": "stream",
     "text": [
      "OpenCV: FFMPEG: tag 0x5634504d/'MP4V' is not supported with codec id 12 and format 'mp4 / MP4 (MPEG-4 Part 14)'\n",
      "OpenCV: FFMPEG: fallback to use tag 0x7634706d/'mp4v'\n"
     ]
    }
   ],
   "source": [
    "WRITERS[\"opencv\"](iter(env.images), f\"{MODEL_FILE_PATH}.mp4\")"
   ]
  }
 ],
 "metadata": {
  "accelerator": "GPU",
  "colab": {
   "gpuType": "T4",
   "provenance": []
  },
  "kernelspec": {
   "display_name": "Python 3 (ipykernel)",
   "language": "python",
   "name": "python3"
  },
  "language_info": {
   "codemirror_mode": {
    "name": "ipython",
    "version": 3
   },
   "file_extension": ".py",
   "mimetype": "text/x-python",
   "name": "python",
   "nbconvert_exporter": "python",
   "pygments_lexer": "ipython3",
   "version": "3.10.7"
  }
 },
 "nbformat": 4,
 "nbformat_minor": 5
}
